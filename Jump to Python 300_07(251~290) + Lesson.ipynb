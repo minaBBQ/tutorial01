{
 "cells": [
  {
   "cell_type": "code",
   "execution_count": 2,
   "id": "68a0484b",
   "metadata": {
    "ExecuteTime": {
     "end_time": "2024-03-11T01:22:02.080885Z",
     "start_time": "2024-03-11T01:22:02.073454Z"
    },
    "scrolled": true
   },
   "outputs": [
    {
     "name": "stdout",
     "output_type": "stream",
     "text": [
      "3\n",
      "7\n"
     ]
    }
   ],
   "source": [
    "# calculator.py\n",
    "result = 0\n",
    "\n",
    "def add(num):\n",
    "    global result\n",
    "    result += num  # 결괏값(result)에 입력값(num) 더하기\n",
    "    return result  # 결괏값 리턴\n",
    "\n",
    "print(add(3))\n",
    "print(add(4))"
   ]
  },
  {
   "cell_type": "code",
   "execution_count": 3,
   "id": "8e0d45c7",
   "metadata": {
    "ExecuteTime": {
     "end_time": "2024-03-11T01:43:56.485301Z",
     "start_time": "2024-03-11T01:43:56.472428Z"
    }
   },
   "outputs": [
    {
     "name": "stdout",
     "output_type": "stream",
     "text": [
      "10\n",
      "5\n",
      "10\n",
      "3.3333333333333335\n",
      "0\n"
     ]
    }
   ],
   "source": [
    "class Calculator:\n",
    "    def __init__(self):\n",
    "        self.result = 0\n",
    "\n",
    "    def add(self, num):\n",
    "        self.result += num\n",
    "        return self.result\n",
    "\n",
    "    def subtract(self, num):\n",
    "        self.result -= num\n",
    "        return self.result\n",
    "\n",
    "    def multiply(self, num):\n",
    "        self.result *= num\n",
    "        return self.result\n",
    "\n",
    "    def divide(self, num):\n",
    "        if num == 0:\n",
    "            print(\"0으로 나눌 수 없습니다.\")\n",
    "            return\n",
    "        self.result /= num\n",
    "        return self.result\n",
    "\n",
    "    def clear(self):\n",
    "        self.result = 0\n",
    "        return self.result\n",
    "\n",
    "# 계산기 인스턴스 생성\n",
    "calc = Calculator()\n",
    "\n",
    "# 기능 테스트\n",
    "print(calc.add(10))      # 10 더하기\n",
    "print(calc.subtract(5))  # 5 빼기\n",
    "print(calc.multiply(2))  # 2 곱하기\n",
    "print(calc.divide(3))    # 3으로 나누기\n",
    "print(calc.clear())      # 계산기 초기화\n"
   ]
  },
  {
   "cell_type": "code",
   "execution_count": 5,
   "id": "5d3b8db1",
   "metadata": {
    "ExecuteTime": {
     "end_time": "2024-03-11T01:50:23.293755Z",
     "start_time": "2024-03-11T01:45:57.103931Z"
    }
   },
   "outputs": [
    {
     "ename": "KeyboardInterrupt",
     "evalue": "Interrupted by user",
     "output_type": "error",
     "traceback": [
      "\u001b[1;31m---------------------------------------------------------------------------\u001b[0m",
      "\u001b[1;31mKeyboardInterrupt\u001b[0m                         Traceback (most recent call last)",
      "Cell \u001b[1;32mIn[5], line 53\u001b[0m\n\u001b[0;32m     50\u001b[0m         \u001b[38;5;28mprint\u001b[39m(\u001b[38;5;124m\"\u001b[39m\u001b[38;5;124m현재 결과: \u001b[39m\u001b[38;5;124m\"\u001b[39m, calc\u001b[38;5;241m.\u001b[39mget_result())\n\u001b[0;32m     52\u001b[0m \u001b[38;5;28;01mif\u001b[39;00m \u001b[38;5;18m__name__\u001b[39m \u001b[38;5;241m==\u001b[39m \u001b[38;5;124m\"\u001b[39m\u001b[38;5;124m__main__\u001b[39m\u001b[38;5;124m\"\u001b[39m:\n\u001b[1;32m---> 53\u001b[0m     main()\n",
      "Cell \u001b[1;32mIn[5], line 29\u001b[0m, in \u001b[0;36mmain\u001b[1;34m()\u001b[0m\n\u001b[0;32m     27\u001b[0m calc \u001b[38;5;241m=\u001b[39m Calculator()\n\u001b[0;32m     28\u001b[0m \u001b[38;5;28;01mwhile\u001b[39;00m \u001b[38;5;28;01mTrue\u001b[39;00m:\n\u001b[1;32m---> 29\u001b[0m     operation \u001b[38;5;241m=\u001b[39m \u001b[38;5;28minput\u001b[39m(\u001b[38;5;124m\"\u001b[39m\u001b[38;5;124m연산을 입력하세요 (+, -, *, /, clear, exit): \u001b[39m\u001b[38;5;124m\"\u001b[39m)\n\u001b[0;32m     30\u001b[0m     \u001b[38;5;28;01mif\u001b[39;00m operation \u001b[38;5;241m==\u001b[39m \u001b[38;5;124m'\u001b[39m\u001b[38;5;124mexit\u001b[39m\u001b[38;5;124m'\u001b[39m:\n\u001b[0;32m     31\u001b[0m         \u001b[38;5;28mprint\u001b[39m(\u001b[38;5;124m\"\u001b[39m\u001b[38;5;124m계산기를 종료합니다.\u001b[39m\u001b[38;5;124m\"\u001b[39m)\n",
      "File \u001b[1;32m~\\anaconda3\\Lib\\site-packages\\ipykernel\\kernelbase.py:1202\u001b[0m, in \u001b[0;36mKernel.raw_input\u001b[1;34m(self, prompt)\u001b[0m\n\u001b[0;32m   1200\u001b[0m     msg \u001b[38;5;241m=\u001b[39m \u001b[38;5;124m\"\u001b[39m\u001b[38;5;124mraw_input was called, but this frontend does not support input requests.\u001b[39m\u001b[38;5;124m\"\u001b[39m\n\u001b[0;32m   1201\u001b[0m     \u001b[38;5;28;01mraise\u001b[39;00m StdinNotImplementedError(msg)\n\u001b[1;32m-> 1202\u001b[0m \u001b[38;5;28;01mreturn\u001b[39;00m \u001b[38;5;28mself\u001b[39m\u001b[38;5;241m.\u001b[39m_input_request(\n\u001b[0;32m   1203\u001b[0m     \u001b[38;5;28mstr\u001b[39m(prompt),\n\u001b[0;32m   1204\u001b[0m     \u001b[38;5;28mself\u001b[39m\u001b[38;5;241m.\u001b[39m_parent_ident[\u001b[38;5;124m\"\u001b[39m\u001b[38;5;124mshell\u001b[39m\u001b[38;5;124m\"\u001b[39m],\n\u001b[0;32m   1205\u001b[0m     \u001b[38;5;28mself\u001b[39m\u001b[38;5;241m.\u001b[39mget_parent(\u001b[38;5;124m\"\u001b[39m\u001b[38;5;124mshell\u001b[39m\u001b[38;5;124m\"\u001b[39m),\n\u001b[0;32m   1206\u001b[0m     password\u001b[38;5;241m=\u001b[39m\u001b[38;5;28;01mFalse\u001b[39;00m,\n\u001b[0;32m   1207\u001b[0m )\n",
      "File \u001b[1;32m~\\anaconda3\\Lib\\site-packages\\ipykernel\\kernelbase.py:1245\u001b[0m, in \u001b[0;36mKernel._input_request\u001b[1;34m(self, prompt, ident, parent, password)\u001b[0m\n\u001b[0;32m   1242\u001b[0m \u001b[38;5;28;01mexcept\u001b[39;00m \u001b[38;5;167;01mKeyboardInterrupt\u001b[39;00m:\n\u001b[0;32m   1243\u001b[0m     \u001b[38;5;66;03m# re-raise KeyboardInterrupt, to truncate traceback\u001b[39;00m\n\u001b[0;32m   1244\u001b[0m     msg \u001b[38;5;241m=\u001b[39m \u001b[38;5;124m\"\u001b[39m\u001b[38;5;124mInterrupted by user\u001b[39m\u001b[38;5;124m\"\u001b[39m\n\u001b[1;32m-> 1245\u001b[0m     \u001b[38;5;28;01mraise\u001b[39;00m \u001b[38;5;167;01mKeyboardInterrupt\u001b[39;00m(msg) \u001b[38;5;28;01mfrom\u001b[39;00m \u001b[38;5;28;01mNone\u001b[39;00m\n\u001b[0;32m   1246\u001b[0m \u001b[38;5;28;01mexcept\u001b[39;00m \u001b[38;5;167;01mException\u001b[39;00m:\n\u001b[0;32m   1247\u001b[0m     \u001b[38;5;28mself\u001b[39m\u001b[38;5;241m.\u001b[39mlog\u001b[38;5;241m.\u001b[39mwarning(\u001b[38;5;124m\"\u001b[39m\u001b[38;5;124mInvalid Message:\u001b[39m\u001b[38;5;124m\"\u001b[39m, exc_info\u001b[38;5;241m=\u001b[39m\u001b[38;5;28;01mTrue\u001b[39;00m)\n",
      "\u001b[1;31mKeyboardInterrupt\u001b[0m: Interrupted by user"
     ]
    }
   ],
   "source": [
    "class Calculator:\n",
    "    def __init__(self):\n",
    "        self.result = 0\n",
    "\n",
    "    def add(self, num):\n",
    "        self.result += num\n",
    "\n",
    "    def subtract(self, num):\n",
    "        self.result -= num\n",
    "\n",
    "    def multiply(self, num):\n",
    "        self.result *= num\n",
    "\n",
    "    def divide(self, num):\n",
    "        if num != 0:\n",
    "            self.result /= num\n",
    "        else:\n",
    "            print(\"0으로 나눌 수 없습니다.\")\n",
    "\n",
    "    def get_result(self):\n",
    "        return self.result\n",
    "\n",
    "    def clear(self):\n",
    "        self.result = 0\n",
    "\n",
    "def main():\n",
    "    calc = Calculator()\n",
    "    while True:\n",
    "        operation = input(\"연산을 입력하세요 (+, -, *, /, clear, exit): \")\n",
    "        if operation == 'exit':\n",
    "            print(\"계산기를 종료합니다.\")\n",
    "            break\n",
    "        elif operation == 'clear':\n",
    "            calc.clear()\n",
    "            print(\"결과를 초기화했습니다.\")\n",
    "        else:\n",
    "            num = float(input(\"숫자를 입력하세요: \"))\n",
    "            if operation == '+':\n",
    "                calc.add(num)\n",
    "            elif operation == '-':\n",
    "                calc.subtract(num)\n",
    "            elif operation == '*':\n",
    "                calc.multiply(num)\n",
    "            elif operation == '/':\n",
    "                calc.divide(num)\n",
    "            else:\n",
    "                print(\"잘못된 연산입니다.\")\n",
    "                continue\n",
    "\n",
    "        print(\"현재 결과: \", calc.get_result())\n",
    "\n",
    "if __name__ == \"__main__\":\n",
    "    main()\n",
    "\n",
    "    "
   ]
  },
  {
   "cell_type": "code",
   "execution_count": 11,
   "id": "820dd57a",
   "metadata": {
    "ExecuteTime": {
     "end_time": "2024-03-11T01:51:43.779155Z",
     "start_time": "2024-03-11T01:51:43.773953Z"
    }
   },
   "outputs": [
    {
     "name": "stdout",
     "output_type": "stream",
     "text": [
      "민아\n"
     ]
    }
   ],
   "source": [
    "class Human:\n",
    "    def __init__(self, name, age, sex):\n",
    "        self.name = name\n",
    "        self.age = age\n",
    "        self.sex = sex\n",
    "        \n",
    "        \n",
    "\n",
    "areum = Human(\"아름\", 25, \"여자\")\n",
    "mina = Human(\"민아\", 65, \"여자\")\n",
    "print(mina.name)\n",
    "\n"
   ]
  },
  {
   "cell_type": "code",
   "execution_count": 13,
   "id": "d3f3d6cc",
   "metadata": {
    "ExecuteTime": {
     "end_time": "2024-03-11T02:05:58.494687Z",
     "start_time": "2024-03-11T02:05:58.489128Z"
    }
   },
   "outputs": [
    {
     "name": "stdout",
     "output_type": "stream",
     "text": [
      "이름: 아름 나이: 25 성별: 여자\n"
     ]
    }
   ],
   "source": [
    "class Human:\n",
    "    def __init__(self, name, age, sex):\n",
    "        self.name = name\n",
    "        self.age = age\n",
    "        self.sex = sex\n",
    "\n",
    "    def who(self):\n",
    "        print(\"이름: {} 나이: {} 성별: {}\".format(self.name, self.age, self.sex))\n",
    "\n",
    "areum = Human(\"아름\", 25, \"여자\")\n",
    "areum.who()      # Human.who(areum)\n",
    "\n"
   ]
  },
  {
   "cell_type": "code",
   "execution_count": 14,
   "id": "5a7e9f80",
   "metadata": {
    "ExecuteTime": {
     "end_time": "2024-03-11T02:06:04.007042Z",
     "start_time": "2024-03-11T02:06:04.001026Z"
    }
   },
   "outputs": [
    {
     "name": "stdout",
     "output_type": "stream",
     "text": [
      "이름: 불명 나이: 미상 성별: 모름\n",
      "이름: 아름 나이: 25 성별: 여자\n"
     ]
    }
   ],
   "source": [
    "class Human:\n",
    "    def __init__(self, name, age, sex):\n",
    "        self.name = name\n",
    "        self.age = age\n",
    "        self.sex = sex\n",
    "\n",
    "    def who(self):\n",
    "        print(\"이름: {} 나이: {} 성별: {}\".format(self.name, self.age, self.sex))\n",
    "\n",
    "    def setInfo(self, name, age, sex):\n",
    "        self.name = name\n",
    "        self.age = age\n",
    "        self.sex = sex\n",
    "\n",
    "\n",
    "areum = Human(\"불명\", \"미상\", \"모름\")\n",
    "areum.who()      # Human.who(areum)\n",
    "\n",
    "areum.setInfo(\"아름\", 25, \"여자\")\n",
    "areum.who()      # Human.who(areum)\n",
    "\n"
   ]
  },
  {
   "cell_type": "code",
   "execution_count": 15,
   "id": "c6e4e6a2",
   "metadata": {
    "ExecuteTime": {
     "end_time": "2024-03-11T02:06:58.982516Z",
     "start_time": "2024-03-11T02:06:58.978058Z"
    }
   },
   "outputs": [
    {
     "name": "stdout",
     "output_type": "stream",
     "text": [
      "나의 죽음을 알리지마라\n"
     ]
    }
   ],
   "source": [
    "class Human:\n",
    "    def __init__(self, name, age, sex):\n",
    "        self.name = name\n",
    "        self.age = age\n",
    "        self.sex = sex\n",
    "\n",
    "    def __del__(self):\n",
    "        print(\"나의 죽음을 알리지마라\")\n",
    "\n",
    "    def who(self):\n",
    "        print(\"이름: {} 나이: {} 성별: {}\".format(self.name, self.age, self.sex))\n",
    "\n",
    "    def setInfo(self, name, age, sex):\n",
    "        self.name = name\n",
    "        self.age = age\n",
    "        self.sex = sex\n",
    "\n",
    "areum = Human(\"아름\", 25, \"여자\")\n",
    "del(areum)\n",
    "\n"
   ]
  },
  {
   "cell_type": "markdown",
   "id": "2c994ddb",
   "metadata": {},
   "source": [
    "areum = Human(\"아름\", 25, \"여자\")\n",
    "del areum\n",
    "나의 죽음을 알리지 말라\n"
   ]
  },
  {
   "cell_type": "code",
   "execution_count": 17,
   "id": "c599c9e9",
   "metadata": {
    "ExecuteTime": {
     "end_time": "2024-03-11T02:11:39.371990Z",
     "start_time": "2024-03-11T02:11:39.366753Z"
    }
   },
   "outputs": [
    {
     "name": "stdout",
     "output_type": "stream",
     "text": [
      "종목명: 삼성전자\n",
      "종목코드: 005930\n"
     ]
    }
   ],
   "source": [
    "#261~ #265\n",
    "class Stock:\n",
    "    def __init__(self, name=None, code=None):\n",
    "        self.name = name\n",
    "        self.code = code\n",
    "\n",
    "    def set_name(self, name):\n",
    "        self.name = name\n",
    "\n",
    "    def set_code(self, code):\n",
    "        self.code = code\n",
    "\n",
    "    def get_name(self):\n",
    "        return self.name\n",
    "\n",
    "    def get_code(self):\n",
    "        return self.code\n",
    "\n",
    "# 객체 생성 및 사용 예시\n",
    "stock = Stock()\n",
    "stock.set_name(\"삼성전자\")\n",
    "stock.set_code(\"005930\")\n",
    "\n",
    "print(f\"종목명: {stock.get_name()}\")\n",
    "print(f\"종목코드: {stock.get_code()}\")\n",
    "\n",
    "\n",
    "\n"
   ]
  },
  {
   "cell_type": "code",
   "execution_count": 20,
   "id": "c1fba047",
   "metadata": {
    "ExecuteTime": {
     "end_time": "2024-03-11T02:13:01.573085Z",
     "start_time": "2024-03-11T02:13:01.566663Z"
    }
   },
   "outputs": [
    {
     "name": "stdout",
     "output_type": "stream",
     "text": [
      "종목명: 삼성전자\n",
      "종목코드: 005930\n",
      "PER: 15.79\n",
      "PBR: 1.33\n",
      "배당수익률: 2.83\n"
     ]
    }
   ],
   "source": [
    "#266~ #270\n",
    "\n",
    "class Stock:\n",
    "    def __init__(self, name=None, code=None, per=None, pbr=None, dividend_yield=None):\n",
    "        self.name = name\n",
    "        self.code = code\n",
    "        self.per = per\n",
    "        self.pbr = pbr\n",
    "        self.dividend_yield = dividend_yield\n",
    "\n",
    "    def set_name(self, name):\n",
    "        self.name = name\n",
    "\n",
    "    def set_code(self, code):\n",
    "        self.code = code\n",
    "\n",
    "    def get_name(self):\n",
    "        return self.name\n",
    "\n",
    "    def get_code(self):\n",
    "        return self.code\n",
    "\n",
    "    def set_per(self, per):\n",
    "        self.per = per\n",
    "\n",
    "    def get_per(self):\n",
    "        return self.per\n",
    "\n",
    "    def set_pbr(self, pbr):\n",
    "        self.pbr = pbr\n",
    "\n",
    "    def get_pbr(self):\n",
    "        return self.pbr\n",
    "\n",
    "    def set_dividend_yield(self, dividend_yield):\n",
    "        self.dividend_yield = dividend_yield\n",
    "\n",
    "    def get_dividend_yield(self):\n",
    "        return self.dividend_yield\n",
    "\n",
    "# 객체 생성 및 사용 예시\n",
    "stock = Stock(\"삼성전자\", \"005930\", 15.79, 1.33, 2.83)\n",
    "\n",
    "print(f\"종목명: {stock.get_name()}\")\n",
    "print(f\"종목코드: {stock.get_code()}\")\n",
    "print(f\"PER: {stock.get_per()}\")\n",
    "print(f\"PBR: {stock.get_pbr()}\")\n",
    "print(f\"배당수익률: {stock.get_dividend_yield()}\")\n"
   ]
  },
  {
   "cell_type": "code",
   "execution_count": 24,
   "id": "13b15a30",
   "metadata": {
    "ExecuteTime": {
     "end_time": "2024-03-11T02:16:28.947264Z",
     "start_time": "2024-03-11T02:16:28.941192Z"
    }
   },
   "outputs": [
    {
     "name": "stdout",
     "output_type": "stream",
     "text": [
      "종목코드: 005930, PER: 15.79\n",
      "종목코드: 005380, PER: 8.7\n",
      "종목코드: 066570, PER: 317.34\n"
     ]
    }
   ],
   "source": [
    "#270\n",
    "# 종목 정보를 담을 Stock 클래스 정의\n",
    "class Stock:\n",
    "    def __init__(self, name=None, code=None, per=None, pbr=None, dividend_yield=None):\n",
    "        self.name = name\n",
    "        self.code = code\n",
    "        self.per = per\n",
    "        self.pbr = pbr\n",
    "        self.dividend_yield = dividend_yield\n",
    "\n",
    "# 3개의 종목에 대한 객체 생성\n",
    "stocks = [\n",
    "    Stock(\"삼성전자\", \"005930\", 15.79, 1.33, 2.83),\n",
    "    Stock(\"현대차\", \"005380\", 8.70, 0.35, 4.27),\n",
    "    Stock(\"LG전자\", \"066570\", 317.34, 0.69, 1.37)\n",
    "]\n",
    "\n",
    "# 파이썬 리스트에 저장된 각 종목에 대해 종목코드와 PER 출력\n",
    "for stock in stocks:\n",
    "    print(f\"종목코드: {stock.code}, PER: {stock.per}\")\n"
   ]
  },
  {
   "cell_type": "markdown",
   "id": "08ce2407",
   "metadata": {},
   "source": [
    "이걸로 뭘 할 수 있을까?"
   ]
  },
  {
   "cell_type": "code",
   "execution_count": 28,
   "id": "4abb693e",
   "metadata": {
    "ExecuteTime": {
     "end_time": "2024-03-11T02:39:48.551041Z",
     "start_time": "2024-03-11T02:39:48.545407Z"
    }
   },
   "outputs": [
    {
     "name": "stdout",
     "output_type": "stream",
     "text": [
      "삼성전자 005930 15.79\n",
      "현대차 005380 8.7\n"
     ]
    }
   ],
   "source": [
    "# 예제 1: 특정 PER 값 이하의 종목 필터링\n",
    "stocks = [\n",
    "    {\"name\": \"삼성전자\", \"code\": \"005930\", \"per\": 15.79},\n",
    "    {\"name\": \"현대차\", \"code\": \"005380\", \"per\": 8.70},\n",
    "    {\"name\": \"LG전자\", \"code\": \"066570\", \"per\": 317.34},\n",
    "]\n",
    "\n",
    "filtered_stocks = [stock for stock in stocks if stock[\"per\"] < 20]\n",
    "\n",
    "for stock in filtered_stocks:\n",
    "    print(stock[\"name\"], stock[\"code\"], stock[\"per\"])\n",
    "\n",
    "\n",
    "\n"
   ]
  },
  {
   "cell_type": "code",
   "execution_count": 30,
   "id": "2231d024",
   "metadata": {
    "ExecuteTime": {
     "end_time": "2024-03-11T02:40:02.598400Z",
     "start_time": "2024-03-11T02:40:02.585487Z"
    }
   },
   "outputs": [
    {
     "name": "stdout",
     "output_type": "stream",
     "text": [
      "PER 기준 정렬:\n",
      "현대차 005380 8.7\n",
      "삼성전자 005930 15.79\n",
      "LG전자 066570 317.34\n"
     ]
    }
   ],
   "source": [
    "#예제 2: 종목들을 PER 기준으로 정렬하기\n",
    "\n",
    "stocks.sort(key=lambda stock: stock[\"per\"])\n",
    "\n",
    "print(\"PER 기준 정렬:\")\n",
    "for stock in stocks:\n",
    "    print(stock[\"name\"], stock[\"code\"], stock[\"per\"])\n"
   ]
  },
  {
   "cell_type": "code",
   "execution_count": 32,
   "id": "a6eb7011",
   "metadata": {
    "ExecuteTime": {
     "end_time": "2024-03-11T02:40:20.202793Z",
     "start_time": "2024-03-11T02:40:20.196222Z"
    },
    "scrolled": true
   },
   "outputs": [
    {
     "name": "stdout",
     "output_type": "stream",
     "text": [
      "포트폴리오 예상 수익률 (단순화된 계산): 8.91%\n"
     ]
    }
   ],
   "source": [
    "#예제 3: 포트폴리오의 예상 수익률 계산\n",
    "\n",
    "# 간단한 예시로, 여기서는 PER을 기준으로 예상 수익률을 단순화하여 계산합니다.\n",
    "portfolio = [\n",
    "    {\"name\": \"삼성전자\", \"code\": \"005930\", \"per\": 15.79, \"weight\": 0.5},  # 50% 비중\n",
    "    {\"name\": \"현대차\", \"code\": \"005380\", \"per\": 8.70, \"weight\": 0.5},  # 50% 비중\n",
    "]\n",
    "\n",
    "# PER을 역수로 취급하여 간단한 예상 수익률로 활용합니다.\n",
    "expected_return = sum((1 / stock[\"per\"]) * stock[\"weight\"] for stock in portfolio)\n",
    "\n",
    "print(f\"포트폴리오 예상 수익률 (단순화된 계산): {expected_return:.2%}\")\n"
   ]
  },
  {
   "cell_type": "markdown",
   "id": "12e34c90",
   "metadata": {},
   "source": [
    "### 은행문제\n",
    "\n",
    "이 문제들을 통해 Account 클래스를 단계적으로 발전시키는 과정을 볼 수 있습니다. 각 단계에서 클래스에 새로운 기능이 추가되며, 이는 객체지향 프로그래밍의 핵심 개념인 캡슐화, 상속, 다형성 및 추상화의 예시를 보여줍니다. 다음은 각 단계별 요약과 전체 파이썬 구조를 아우르는 설명입니다.\n",
    "\n",
    "\n",
    "#### 기본 구조 도출:\n",
    "Account 클래스 초기 버전은 은행 이름, 예금주, 계좌번호, 잔액을 속성으로 가집니다.\n",
    "생성자에서는 예금주와 초기 잔액을 입력받습니다. 은행 이름은 고정값으로, 계좌번호는 랜덤으로 생성됩니다.\n",
    "\n",
    "#### 클래스 변수 추가:\n",
    "계좌 객체의 개수를 추적하기 위해 클래스 변수 account_count를 도입합니다.\n",
    "\n",
    "#### 클래스 메서드 추가:\n",
    "생성된 계좌 객체의 개수를 출력하는 클래스 메서드 get_account_num()을 추가합니다.\n",
    "\n",
    "#### 입금 메서드 (deposit) 추가:\n",
    "입금을 위한 메서드를 추가합니다. 이 메서드는 최소 1원 이상의 금액에 대해서만 입금을 처리합니다.\n",
    "\n",
    "#### 출금 메서드 (withdraw) 추가:\n",
    "출금을 위한 메서드를 추가합니다. 출금 가능한 금액은 잔액을 초과할 수 없습니다.\n",
    "\n",
    "#### 정보 출력 메서드 (display_info) 추가:\n",
    "계좌의 상세 정보를 출력하는 메서드를 추가합니다. 여기서 잔액은 세자리마다 쉼표로 구분하여 표시합니다.\n",
    "\n",
    "#### 이자 지급 로직 추가:\n",
    "입금 횟수가 5회가 될 때마다 잔액의 1%를 이자로 추가합니다.\n",
    "\n",
    "#### 여러 객체 생성 및 관리:\n",
    "여러 Account 인스턴스를 생성하고 이를 리스트에 저장합니다.\n",
    "\n",
    "#### 객체 순회 및 조건에 따른 정보 출력:\n",
    "리스트에 저장된 모든 객체를 순회하며 잔액이 특정 금액 이상인 계좌의 정보만 출력합니다.\n",
    "\n",
    "#### 입출금 내역 관리:\n",
    "입금과 출금 내역을 기록하고, 이를 출력하는 메서드(deposit_history 및 withdraw_history)를 추가합니다.\n",
    "\n",
    "\n"
   ]
  },
  {
   "cell_type": "code",
   "execution_count": 37,
   "id": "1358b2e8",
   "metadata": {
    "ExecuteTime": {
     "end_time": "2024-03-11T03:48:03.308182Z",
     "start_time": "2024-03-11T03:48:03.298775Z"
    }
   },
   "outputs": [],
   "source": [
    "class Account:\n",
    "    # 클래스 변수\n",
    "    account_count = 0\n",
    "\n",
    "    def __init__(self, name, balance):\n",
    "        import random\n",
    "        \n",
    "        self.name = name\n",
    "        self.balance = balance\n",
    "        self.bank = \"SC은행\"\n",
    "        self.deposit_log = []\n",
    "        self.withdraw_log = []\n",
    "        self.deposit_count = 0\n",
    "\n",
    "        # 계좌번호 생성\n",
    "        num1 = str(random.randint(0, 999)).zfill(3)\n",
    "        num2 = str(random.randint(0, 99)).zfill(2)\n",
    "        num3 = str(random.randint(0, 999999)).zfill(6)\n",
    "        self.account_number = f\"{num1}-{num2}-{num3}\"\n",
    "\n",
    "        Account.account_count += 1\n",
    "\n",
    "    @classmethod\n",
    "    def get_account_num(cls):\n",
    "        return cls.account_count\n",
    "\n",
    "    def deposit(self, amount):\n",
    "        if amount >= 1:\n",
    "            self.balance += amount\n",
    "            self.deposit_log.append(amount)\n",
    "            self.deposit_count += 1\n",
    "            if self.deposit_count % 5 == 0:\n",
    "                self.balance *= 1.01  # 이자 지급\n",
    "\n",
    "    def withdraw(self, amount):\n",
    "        if self.balance >= amount:\n",
    "            self.balance -= amount\n",
    "            self.withdraw_log.append(amount)\n",
    "\n",
    "    def display_info(self):\n",
    "        print(\"은행이름:\", self.bank)\n",
    "        print(\"예금주:\", self.name)\n",
    "        print(\"계좌번호:\", self.account_number)\n",
    "        print(f\"잔고: {self.balance:,.2f}원\")\n",
    "\n",
    "    def deposit_history(self):\n",
    "        print(\"입금 내역:\")\n",
    "        for amount in self.deposit_log:\n",
    "            print(amount)\n",
    "\n",
    "    def withdraw_history(self):\n",
    "        print(\"출금 내역:\")\n",
    "        for amount in self.withdraw_log:\n",
    "            print(amount)\n",
    "\n",
    "# 객체 생성 및 테스트 코드 (실행되지 않음)\n",
    "# accounts = [Account(\"Kim\", 10000000), Account(\"Lee\", 10000), Account(\"Park\", 10000)]\n",
    "# for acc in accounts:\n",
    "#     if acc.balance >= 1000000:\n",
    "#         acc.display_info()\n",
    "\n",
    "# acc = Account(\"Test\", 1000)\n",
    "# acc.deposit(500)\n",
    "# acc.deposit(1000)\n",
    "# acc.withdraw(500)\n",
    "# acc.display_info()\n",
    "# acc.deposit_history()\n",
    "# acc.withdraw_history()\n"
   ]
  },
  {
   "cell_type": "code",
   "execution_count": 38,
   "id": "21c9f2d3",
   "metadata": {
    "ExecuteTime": {
     "end_time": "2024-03-11T04:22:34.650252Z",
     "start_time": "2024-03-11T04:22:34.635965Z"
    }
   },
   "outputs": [
    {
     "name": "stdout",
     "output_type": "stream",
     "text": [
      "100\n",
      "200\n",
      "300\n",
      "100\n",
      "200\n"
     ]
    }
   ],
   "source": [
    "import random\n",
    "\n",
    "\n",
    "class Account:\n",
    "    # class variable\n",
    "    account_count = 0\n",
    "\n",
    "    def __init__(self, name, balance):\n",
    "        self.deposit_count = 0\n",
    "        self.deposit_log = []\n",
    "        self.withdraw_log = []\n",
    "\n",
    "        self.name = name\n",
    "        self.balance = balance\n",
    "        self.bank = \"SC은행\"\n",
    "\n",
    "        # 3-2-6\n",
    "        num1 = random.randint(0, 999)\n",
    "        num2 = random.randint(0, 99)\n",
    "        num3 = random.randint(0, 999999)\n",
    "\n",
    "        num1 = str(num1).zfill(3)  # 1 -> '1' -> '001'\n",
    "        num2 = str(num2).zfill(2)  # 1 -> '1' -> '01'\n",
    "        num3 = str(num3).zfill(6)  # 1 -> '1' -> '0000001'\n",
    "        self.account_number = num1 + '-' + num2 + '-' + num3  # 001-01-000001\n",
    "        Account.account_count += 1\n",
    "\n",
    "    @classmethod\n",
    "    def get_account_num(cls):\n",
    "        print(cls.account_count)  # Account.account_count\n",
    "\n",
    "    def deposit(self, amount):\n",
    "        if amount >= 1:\n",
    "            self.deposit_log.append(amount)\n",
    "            self.balance += amount\n",
    "\n",
    "            self.deposit_count += 1\n",
    "            if self.deposit_count % 5 == 0:         # 5, 10, 15\n",
    "                # 이자 지금\n",
    "                self.balance = (self.balance * 1.01)\n",
    "\n",
    "\n",
    "    def withdraw(self, amount):\n",
    "        if self.balance > amount:\n",
    "            self.withdraw_log.append(amount)\n",
    "            self.balance -= amount\n",
    "\n",
    "    def display_info(self):\n",
    "        print(\"은행이름: \", self.bank)\n",
    "        print(\"예금주: \", self.name)\n",
    "        print(\"계좌번호: \", self.account_number)\n",
    "        print(\"잔고: \", self.balance)\n",
    "\n",
    "    def withdraw_history(self):\n",
    "        for amount in self.withdraw_log:\n",
    "            print(amount)\n",
    "\n",
    "    def deposit_history(self):\n",
    "        for amount in self.deposit_log:\n",
    "            print(amount)\n",
    "\n",
    "\n",
    "k = Account(\"Kim\", 1000)\n",
    "k.deposit(100)\n",
    "k.deposit(200)\n",
    "k.deposit(300)\n",
    "k.deposit_history()\n",
    "\n",
    "k.withdraw(100)\n",
    "k.withdraw(200)\n",
    "k.withdraw_history()"
   ]
  },
  {
   "cell_type": "markdown",
   "id": "02337f90",
   "metadata": {},
   "source": [
    "# Account 클래스 구조 분석\n",
    "\n",
    "이 클래스는 은행 계좌 관리를 위한 파이썬 코드입니다. 주요 기능과 구조는 다음과 같습니다:\n",
    "\n",
    "## 1. 클래스 변수\n",
    "- `account_count`: 생성된 `Account` 객체의 개수를 추적합니다.\n",
    "\n",
    "## 2. 생성자 `__init__`\n",
    "- 계좌의 기본 정보(예금주의 이름, 잔액)와 계좌번호를 초기화합니다.\n",
    "- 계좌번호는 3자리-2자리-6자리 형태로 랜덤 생성됩니다.\n",
    "- 객체 생성 시 `account_count`를 1 증가시킵니다.\n",
    "\n",
    "## 3. 클래스 메서드 `get_account_num`\n",
    "- 생성된 계좌의 총 개수를 출력합니다.\n",
    "\n",
    "## 4. 인스턴스 메서드 `deposit`\n",
    "- 입금 메서드로, 1원 이상의 금액에 대해 입금을 허용합니다.\n",
    "- 입금할 때마다 `deposit_log`에 기록을 남깁니다.\n",
    "- 5회 입금마다 잔액의 1%를 이자로 추가합니다.\n",
    "\n",
    "## 5. 인스턴스 메서드 `withdraw`\n",
    "- 출금 메서드로, 잔액 이상의 금액을 출금할 수 없습니다.\n",
    "- 출금할 때마다 `withdraw_log`에 기록을 남깁니다.\n",
    "\n",
    "## 6. 인스턴스 메서드 `display_info`\n",
    "- 계좌의 상세 정보(은행 이름, 예금주, 계좌번호, 잔액)를 출력합니다.\n",
    "\n",
    "## 7. 인스턴스 메서드 `withdraw_history`와 `deposit_history`\n",
    "- 각각 출금 내역과 입금 내역을 출력합니다.\n",
    "\n",
    "## 사용 예제\n",
    "```python\n",
    "k = Account(\"Kim\", 1000)\n",
    "k.deposit(100)\n",
    "k.deposit(200)\n",
    "k.deposit(300)\n",
    "k.deposit_history()\n",
    "\n",
    "k.withdraw(100)\n",
    "k.withdraw(200)\n",
    "k.withdraw_history()\n"
   ]
  },
  {
   "cell_type": "code",
   "execution_count": 41,
   "id": "7d756912",
   "metadata": {
    "ExecuteTime": {
     "end_time": "2024-03-11T04:28:52.615814Z",
     "start_time": "2024-03-11T04:28:52.610714Z"
    }
   },
   "outputs": [
    {
     "name": "stdout",
     "output_type": "stream",
     "text": [
      "100\n",
      "300\n",
      "300\n",
      "100\n",
      "200\n"
     ]
    }
   ],
   "source": [
    "k = Account(\"Kim\", 20000)\n",
    "k.deposit(100)\n",
    "k.deposit(300)\n",
    "k.deposit(300)\n",
    "k.deposit_history()\n",
    "\n",
    "k.withdraw(100)\n",
    "k.withdraw(200)\n",
    "k.withdraw_history()"
   ]
  },
  {
   "cell_type": "code",
   "execution_count": 42,
   "id": "3ba76f7e",
   "metadata": {
    "ExecuteTime": {
     "end_time": "2024-03-11T04:29:54.966746Z",
     "start_time": "2024-03-11T04:29:54.961490Z"
    }
   },
   "outputs": [
    {
     "name": "stdout",
     "output_type": "stream",
     "text": [
      "은행이름:  SC은행\n",
      "예금주:  Kim\n",
      "계좌번호:  056-28-973720\n",
      "잔고:  20400\n"
     ]
    }
   ],
   "source": [
    "k.display_info()\n"
   ]
  },
  {
   "cell_type": "markdown",
   "id": "5f3da7d9",
   "metadata": {},
   "source": [
    "### 상속 (차 자전차)\n"
   ]
  },
  {
   "cell_type": "code",
   "execution_count": 55,
   "id": "c890daa6",
   "metadata": {
    "ExecuteTime": {
     "end_time": "2024-03-11T04:40:36.579420Z",
     "start_time": "2024-03-11T04:40:36.574585Z"
    }
   },
   "outputs": [
    {
     "name": "stdout",
     "output_type": "stream",
     "text": [
      "2\n",
      "1000\n"
     ]
    }
   ],
   "source": [
    "class 차:\n",
    "    def __init__(self, 바퀴, 가격):\n",
    "        self.바퀴 = 바퀴\n",
    "        self.가격 = 가격\n",
    "\n",
    "car = 차(2, 1000)\n",
    "print(car.바퀴)  # 2\n",
    "print(car.가격)  # 1000\n"
   ]
  },
  {
   "cell_type": "code",
   "execution_count": 56,
   "id": "9797a674",
   "metadata": {
    "ExecuteTime": {
     "end_time": "2024-03-11T04:40:41.116630Z",
     "start_time": "2024-03-11T04:40:41.112455Z"
    }
   },
   "outputs": [
    {
     "name": "stdout",
     "output_type": "stream",
     "text": [
      "100\n"
     ]
    }
   ],
   "source": [
    "class 자전차(차):\n",
    "    def __init__(self, 바퀴, 가격):\n",
    "        super().__init__(바퀴, 가격)\n",
    "\n",
    "bicycle = 자전차(2, 100)\n",
    "print(bicycle.가격)  # 100\n"
   ]
  },
  {
   "cell_type": "code",
   "execution_count": 57,
   "id": "ad86d515",
   "metadata": {
    "ExecuteTime": {
     "end_time": "2024-03-11T04:40:44.690968Z",
     "start_time": "2024-03-11T04:40:44.686446Z"
    }
   },
   "outputs": [
    {
     "name": "stdout",
     "output_type": "stream",
     "text": [
      "시마노\n"
     ]
    }
   ],
   "source": [
    "class 자전차(차):\n",
    "    def __init__(self, 바퀴, 가격, 구동계):\n",
    "        super().__init__(바퀴, 가격)\n",
    "        self.구동계 = 구동계\n",
    "\n",
    "bicycle = 자전차(2, 100, \"시마노\")\n",
    "print(bicycle.구동계)  # 시마노\n"
   ]
  },
  {
   "cell_type": "code",
   "execution_count": 58,
   "id": "126c78cd",
   "metadata": {
    "ExecuteTime": {
     "end_time": "2024-03-11T04:40:47.791610Z",
     "start_time": "2024-03-11T04:40:47.787721Z"
    }
   },
   "outputs": [
    {
     "name": "stdout",
     "output_type": "stream",
     "text": [
      "바퀴수  4\n",
      "가격  1000\n"
     ]
    }
   ],
   "source": [
    "class 자동차(차):\n",
    "    def 정보(self):\n",
    "        print(\"바퀴수 \", self.바퀴)\n",
    "        print(\"가격 \", self.가격)\n",
    "\n",
    "car = 자동차(4, 1000)\n",
    "car.정보()\n"
   ]
  },
  {
   "cell_type": "code",
   "execution_count": 59,
   "id": "0b303205",
   "metadata": {
    "ExecuteTime": {
     "end_time": "2024-03-11T04:40:51.493853Z",
     "start_time": "2024-03-11T04:40:51.475656Z"
    }
   },
   "outputs": [
    {
     "ename": "AttributeError",
     "evalue": "'자전차' object has no attribute '정보'",
     "output_type": "error",
     "traceback": [
      "\u001b[1;31m---------------------------------------------------------------------------\u001b[0m",
      "\u001b[1;31mAttributeError\u001b[0m                            Traceback (most recent call last)",
      "Cell \u001b[1;32mIn[59], line 7\u001b[0m\n\u001b[0;32m      4\u001b[0m         \u001b[38;5;28mself\u001b[39m\u001b[38;5;241m.\u001b[39m구동계 \u001b[38;5;241m=\u001b[39m 구동계\n\u001b[0;32m      6\u001b[0m bicycle \u001b[38;5;241m=\u001b[39m 자전차(\u001b[38;5;241m2\u001b[39m, \u001b[38;5;241m100\u001b[39m, \u001b[38;5;124m\"\u001b[39m\u001b[38;5;124m시마노\u001b[39m\u001b[38;5;124m\"\u001b[39m)\n\u001b[1;32m----> 7\u001b[0m bicycle\u001b[38;5;241m.\u001b[39m정보()\n",
      "\u001b[1;31mAttributeError\u001b[0m: '자전차' object has no attribute '정보'"
     ]
    }
   ],
   "source": [
    "class 자전차(차):\n",
    "    def __init__(self, 바퀴, 가격, 구동계):\n",
    "        super().__init__(바퀴, 가격)\n",
    "        self.구동계 = 구동계\n",
    "\n",
    "bicycle = 자전차(2, 100, \"시마노\")\n",
    "bicycle.정보()\n"
   ]
  },
  {
   "cell_type": "code",
   "execution_count": 60,
   "id": "741e91d8",
   "metadata": {
    "ExecuteTime": {
     "end_time": "2024-03-11T04:44:08.307317Z",
     "start_time": "2024-03-11T04:44:08.301170Z"
    }
   },
   "outputs": [
    {
     "name": "stdout",
     "output_type": "stream",
     "text": [
      "바퀴수: 2\n",
      "가격: 100\n",
      "구동계: 시마노\n"
     ]
    }
   ],
   "source": [
    "class 차:\n",
    "    def __init__(self, 바퀴, 가격):\n",
    "        self.바퀴 = 바퀴\n",
    "        self.가격 = 가격\n",
    "\n",
    "    def 정보(self):\n",
    "        print(f\"바퀴수: {self.바퀴}\")\n",
    "        print(f\"가격: {self.가격}\")\n",
    "\n",
    "class 자전차(차):\n",
    "    def __init__(self, 바퀴, 가격, 구동계):\n",
    "        super().__init__(바퀴, 가격)\n",
    "        self.구동계 = 구동계\n",
    "\n",
    "    def 정보(self):\n",
    "        super().정보()\n",
    "        print(f\"구동계: {self.구동계}\")\n",
    "\n",
    "bicycle = 자전차(2, 100, \"시마노\")\n",
    "bicycle.정보()\n"
   ]
  },
  {
   "cell_type": "code",
   "execution_count": 61,
   "id": "d22f5770",
   "metadata": {
    "ExecuteTime": {
     "end_time": "2024-03-11T04:45:04.467998Z",
     "start_time": "2024-03-11T04:45:04.462942Z"
    }
   },
   "outputs": [
    {
     "name": "stdout",
     "output_type": "stream",
     "text": [
      "자식생성\n",
      "부모생성\n"
     ]
    }
   ],
   "source": [
    "class 부모:\n",
    "    def __init__(self):\n",
    "        print(\"부모생성\")\n",
    "\n",
    "class 자식(부모):\n",
    "    def __init__(self):\n",
    "        print(\"자식생성\")\n",
    "        super().__init__()\n",
    "\n",
    "나 = 자식()\n",
    "\n"
   ]
  },
  {
   "cell_type": "code",
   "execution_count": null,
   "id": "7e611597",
   "metadata": {},
   "outputs": [],
   "source": []
  }
 ],
 "metadata": {
  "kernelspec": {
   "display_name": "Python 3 (ipykernel)",
   "language": "python",
   "name": "python3"
  },
  "language_info": {
   "codemirror_mode": {
    "name": "ipython",
    "version": 3
   },
   "file_extension": ".py",
   "mimetype": "text/x-python",
   "name": "python",
   "nbconvert_exporter": "python",
   "pygments_lexer": "ipython3",
   "version": "3.11.5"
  }
 },
 "nbformat": 4,
 "nbformat_minor": 5
}

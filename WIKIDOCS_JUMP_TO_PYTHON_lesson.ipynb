{
 "cells": [
  {
   "cell_type": "markdown",
   "id": "a82763f6",
   "metadata": {},
   "source": [
    "리스트 객체"
   ]
  },
  {
   "cell_type": "code",
   "execution_count": 5,
   "id": "7ba93083",
   "metadata": {
    "ExecuteTime": {
     "end_time": "2024-03-04T00:40:37.255716Z",
     "start_time": "2024-03-04T00:40:37.247927Z"
    }
   },
   "outputs": [
    {
     "data": {
      "text/plain": [
       "4"
      ]
     },
     "execution_count": 5,
     "metadata": {},
     "output_type": "execute_result"
    }
   ],
   "source": [
    "#리스트를 사용하면 1, 3, 5, 7, 9의 숫자 모음을 다음과 같이 간단하게 표현할 수 있다.\n",
    "\n",
    "odd = [1, 3, 5, 7, 9]\n",
    "\n",
    "a = [1,2,3]\n",
    "\n",
    "odd[0]+a[2]\n"
   ]
  },
  {
   "cell_type": "code",
   "execution_count": 11,
   "id": "705e8f99",
   "metadata": {
    "ExecuteTime": {
     "end_time": "2024-03-04T00:42:48.736921Z",
     "start_time": "2024-03-04T00:42:48.729426Z"
    }
   },
   "outputs": [
    {
     "data": {
      "text/plain": [
       "'b'"
      ]
     },
     "execution_count": 11,
     "metadata": {},
     "output_type": "execute_result"
    }
   ],
   "source": [
    "a = [1, 2, 3, ['a', 'b', 'c']]\n",
    "a[-1][1]\n",
    "\n",
    "\n",
    "\n",
    "\n"
   ]
  },
  {
   "cell_type": "code",
   "execution_count": 20,
   "id": "a5db129e",
   "metadata": {
    "ExecuteTime": {
     "end_time": "2024-03-04T00:46:40.268040Z",
     "start_time": "2024-03-04T00:46:40.260402Z"
    }
   },
   "outputs": [
    {
     "data": {
      "text/plain": [
       "'송파구'"
      ]
     },
     "execution_count": 20,
     "metadata": {},
     "output_type": "execute_result"
    }
   ],
   "source": [
    "도시 = ['서울','인천','부산']\n",
    "도시 = [['용산구','송파구','광진구'],'인천','부산']\n",
    "도시[0][1]\n"
   ]
  },
  {
   "cell_type": "code",
   "execution_count": 23,
   "id": "7d120b1d",
   "metadata": {
    "ExecuteTime": {
     "end_time": "2024-03-04T00:47:35.209884Z",
     "start_time": "2024-03-04T00:47:35.201823Z"
    }
   },
   "outputs": [
    {
     "data": {
      "text/plain": [
       "[1, 2]"
      ]
     },
     "execution_count": 23,
     "metadata": {},
     "output_type": "execute_result"
    }
   ],
   "source": [
    "#리스트 슬라이싱\n",
    "a = [1, 2, 3, 4, 5]\n",
    "a[0:2]"
   ]
  },
  {
   "cell_type": "code",
   "execution_count": 25,
   "id": "62b05f6a",
   "metadata": {
    "ExecuteTime": {
     "end_time": "2024-03-04T00:49:04.126388Z",
     "start_time": "2024-03-04T00:49:04.119020Z"
    }
   },
   "outputs": [
    {
     "data": {
      "text/plain": [
       "'12'"
      ]
     },
     "execution_count": 25,
     "metadata": {},
     "output_type": "execute_result"
    }
   ],
   "source": [
    "a=\"12345\"\n",
    "a[0:2]"
   ]
  },
  {
   "cell_type": "code",
   "execution_count": 33,
   "id": "b6e36290",
   "metadata": {
    "ExecuteTime": {
     "end_time": "2024-03-04T00:51:15.624699Z",
     "start_time": "2024-03-04T00:51:15.620330Z"
    }
   },
   "outputs": [
    {
     "name": "stdout",
     "output_type": "stream",
     "text": [
      "[1, 2] [3, 4, 5]\n"
     ]
    }
   ],
   "source": [
    "a = [1,2,3,4,5]\n",
    "b = a [:2]\n",
    "c = a [2:]\n",
    "\n",
    "print(b,c)"
   ]
  },
  {
   "cell_type": "code",
   "execution_count": 36,
   "id": "ca75e3cc",
   "metadata": {
    "ExecuteTime": {
     "end_time": "2024-03-04T00:59:30.051963Z",
     "start_time": "2024-03-04T00:59:30.046977Z"
    }
   },
   "outputs": [
    {
     "data": {
      "text/plain": [
       "([1, 2], [3, 4, 5])"
      ]
     },
     "execution_count": 36,
     "metadata": {},
     "output_type": "execute_result"
    }
   ],
   "source": [
    "a = [1,2,3,4,5]\n",
    "b = a [:2]\n",
    "c = a [2:]\n",
    "b,c\n"
   ]
  },
  {
   "cell_type": "markdown",
   "id": "f5efcb8c",
   "metadata": {},
   "source": [
    "### 리스트에 요소 추가하기 - append"
   ]
  },
  {
   "cell_type": "code",
   "execution_count": 52,
   "id": "7d54252d",
   "metadata": {
    "ExecuteTime": {
     "end_time": "2024-03-04T01:17:16.493188Z",
     "start_time": "2024-03-04T01:17:16.487663Z"
    }
   },
   "outputs": [
    {
     "data": {
      "text/plain": [
       "[1, 2, 3, 4]"
      ]
     },
     "execution_count": 52,
     "metadata": {},
     "output_type": "execute_result"
    }
   ],
   "source": [
    "#append의 사전적 의미는 ‘덧붙이다, 첨부하다’이다. \n",
    "#이 뜻을 안다면 다음 예가 바로 이해될 것이다. \n",
    "#ppend(x)는 리스트의 맨 마지막에 x를 추가하는 함수이다.\n",
    "\n",
    "a = [1, 2, 3]\n",
    "\n",
    "a.append(4)\n",
    "a\n",
    "#a.append([5,6])\n",
    "#a\n",
    "\n",
    "# 한 번에 넣으니까 안 들어가\n",
    "# a.append(4,5)"
   ]
  },
  {
   "cell_type": "code",
   "execution_count": 60,
   "id": "143af91d",
   "metadata": {
    "ExecuteTime": {
     "end_time": "2024-03-04T01:27:24.739540Z",
     "start_time": "2024-03-04T01:27:24.734525Z"
    },
    "scrolled": true
   },
   "outputs": [],
   "source": [
    "a = [1, 4, 3, 2]\n",
    "a.sort()\n",
    "\n",
    "\n",
    "\n"
   ]
  },
  {
   "cell_type": "markdown",
   "id": "cb428e14",
   "metadata": {},
   "source": [
    "### 튜플\n",
    "튜플(tuple)은 몇 가지 점을 제외하곤 리스트와 거의 비슷하며 리스트와 다른 점은 다음과 같다.\n",
    "\n",
    "리스트는 [], 튜플은 ()으로 둘러싼다.\n",
    "리스트는 요솟값의 생성, 삭제, 수정이 가능하지만, 튜플은 요솟값을 바꿀 수 없다.\n"
   ]
  },
  {
   "cell_type": "code",
   "execution_count": 63,
   "id": "14b7170b",
   "metadata": {
    "ExecuteTime": {
     "end_time": "2024-03-04T01:32:08.040310Z",
     "start_time": "2024-03-04T01:32:08.015153Z"
    }
   },
   "outputs": [
    {
     "ename": "AttributeError",
     "evalue": "'tuple' object has no attribute 'replace'",
     "output_type": "error",
     "traceback": [
      "\u001b[1;31m---------------------------------------------------------------------------\u001b[0m",
      "\u001b[1;31mAttributeError\u001b[0m                            Traceback (most recent call last)",
      "Cell \u001b[1;32mIn[63], line 6\u001b[0m\n\u001b[0;32m      4\u001b[0m t4 \u001b[38;5;241m=\u001b[39m \u001b[38;5;241m1\u001b[39m, \u001b[38;5;241m2\u001b[39m, \u001b[38;5;241m3\u001b[39m\n\u001b[0;32m      5\u001b[0m t5 \u001b[38;5;241m=\u001b[39m (\u001b[38;5;124m'\u001b[39m\u001b[38;5;124ma\u001b[39m\u001b[38;5;124m'\u001b[39m, \u001b[38;5;124m'\u001b[39m\u001b[38;5;124mb\u001b[39m\u001b[38;5;124m'\u001b[39m, (\u001b[38;5;124m'\u001b[39m\u001b[38;5;124mab\u001b[39m\u001b[38;5;124m'\u001b[39m, \u001b[38;5;124m'\u001b[39m\u001b[38;5;124mcd\u001b[39m\u001b[38;5;124m'\u001b[39m))\n\u001b[1;32m----> 6\u001b[0m t1\u001b[38;5;241m.\u001b[39mreplace[\u001b[38;5;241m0\u001b[39m]\n",
      "\u001b[1;31mAttributeError\u001b[0m: 'tuple' object has no attribute 'replace'"
     ]
    }
   ],
   "source": [
    "t1 = ()\n",
    "t2 = (1,)\n",
    "t3 = (1, 2, 3)\n",
    "t4 = 1, 2, 3\n",
    "t5 = ('a', 'b', ('ab', 'cd'))\n",
    "\n",
    "t1.replace[0]"
   ]
  },
  {
   "cell_type": "code",
   "execution_count": 64,
   "id": "ee3a048d",
   "metadata": {
    "ExecuteTime": {
     "end_time": "2024-03-04T01:34:02.835415Z",
     "start_time": "2024-03-04T01:34:02.827923Z"
    }
   },
   "outputs": [
    {
     "data": {
      "text/plain": [
       "(2, 'a', 'b')"
      ]
     },
     "execution_count": 64,
     "metadata": {},
     "output_type": "execute_result"
    }
   ],
   "source": [
    "#슬라이싱하기\n",
    "t1 = (1, 2, 'a', 'b')\n",
    "t1[1:]"
   ]
  },
  {
   "cell_type": "code",
   "execution_count": 80,
   "id": "8091c089",
   "metadata": {
    "ExecuteTime": {
     "end_time": "2024-03-04T01:46:30.011329Z",
     "start_time": "2024-03-04T01:46:30.002058Z"
    }
   },
   "outputs": [
    {
     "data": {
      "text/plain": [
       "(4, (1, 2, 'a', 'b', 3, 4), (1, 2, 'a', 'b', 1, 2, 'a', 'b'))"
      ]
     },
     "execution_count": 80,
     "metadata": {},
     "output_type": "execute_result"
    }
   ],
   "source": [
    "#튜플 더하기\n",
    "t1 = (1, 2, 'a', 'b')\n",
    "t2 = (3, 4)\n",
    "\n",
    "t3 = t1[0] + t2[0]\n",
    "t4 = t1 + t2\n",
    "\n",
    "#튜플 곱하기\n",
    "t5 = t1 * 2\n",
    "t3, t4, t5\n",
    "\n"
   ]
  },
  {
   "cell_type": "markdown",
   "id": "6cd8348f",
   "metadata": {},
   "source": [
    "### 딕셔너리란?\n",
    "딕셔너리는 단어 그대로 ‘사전’이라는 뜻이다. 즉 \"people\"이라는 단어에 \"사람\", \"baseball\"이라는 단어에 \"야구\"라는 뜻이 부합되듯이 딕셔너리는 Key와 Value를 한 쌍으로 가지는 자료형이다. 예컨대 Key가 \"baseball\"이라면 Value는 \"야구\"가 될 것이다.\n",
    "\n",
    "딕셔너리는 리스트나 튜플처럼 순차적으로(sequential) 해당 요솟값을 구하지 않고 Key를 통해 Value를 얻는다. 이것이 바로 딕셔너리의 가장 큰 특징이다. baseball이라는 단어의 뜻을 찾기 위해 사전의 내용을 순차적으로 모두 검색하는 것이 아니라 baseball이라는 단어가 있는 곳만 펼쳐 보는 것이다."
   ]
  },
  {
   "cell_type": "code",
   "execution_count": 88,
   "id": "b6dc81b9",
   "metadata": {
    "ExecuteTime": {
     "end_time": "2024-03-04T01:51:24.611460Z",
     "start_time": "2024-03-04T01:51:24.606369Z"
    }
   },
   "outputs": [
    {
     "data": {
      "text/plain": [
       "{1: 'a', 2: 'b', '인사': '안녕'}"
      ]
     },
     "execution_count": 88,
     "metadata": {},
     "output_type": "execute_result"
    }
   ],
   "source": [
    "a = {1: 'a'}\n",
    "a[2] = 'b'\n",
    "a\n",
    "a['인사'] = '안녕'\n",
    "a"
   ]
  },
  {
   "cell_type": "code",
   "execution_count": 94,
   "id": "b673aa38",
   "metadata": {
    "ExecuteTime": {
     "end_time": "2024-03-04T02:07:37.559058Z",
     "start_time": "2024-03-04T02:07:37.553680Z"
    }
   },
   "outputs": [
    {
     "data": {
      "text/plain": [
       "'피겨스케이팅'"
      ]
     },
     "execution_count": 94,
     "metadata": {},
     "output_type": "execute_result"
    }
   ],
   "source": [
    "people = {\"김연아\": \"피겨스케이팅\", \"류현진\": \"야구\", \"손흥민\": \"축구\", \"귀도\": \"파이썬\"}\n",
    "people[\"김연아\"]"
   ]
  },
  {
   "cell_type": "code",
   "execution_count": 95,
   "id": "5ad4718d",
   "metadata": {
    "ExecuteTime": {
     "end_time": "2024-03-04T02:13:08.640019Z",
     "start_time": "2024-03-04T02:13:08.633623Z"
    }
   },
   "outputs": [
    {
     "data": {
      "text/plain": [
       "(str, list, tuple, dict)"
      ]
     },
     "execution_count": 95,
     "metadata": {},
     "output_type": "execute_result"
    }
   ],
   "source": [
    "a1 = 'str'\n",
    "a2 = [1,2,3]\n",
    "a3 = (1,)\n",
    "a4 = {1:'a'}\n",
    "\n",
    "type(a1), type(a2), type(a3), type(a4)"
   ]
  },
  {
   "cell_type": "code",
   "execution_count": null,
   "id": "62b249da",
   "metadata": {},
   "outputs": [],
   "source": [
    "# a1.~a4 [tap] 을 누르면 해당 함수가 나타난다 \n"
   ]
  },
  {
   "cell_type": "code",
   "execution_count": 96,
   "id": "18aedb5c",
   "metadata": {
    "ExecuteTime": {
     "end_time": "2024-03-04T02:14:57.826145Z",
     "start_time": "2024-03-04T02:14:57.821099Z"
    }
   },
   "outputs": [
    {
     "data": {
      "text/plain": [
       "dict_keys(['name', 'phone', 'birth'])"
      ]
     },
     "execution_count": 96,
     "metadata": {},
     "output_type": "execute_result"
    }
   ],
   "source": [
    "a = {'name':'pey', 'phone':'010-9999-1234', 'birth': '1118'}\n",
    "a.keys()\n",
    "\n"
   ]
  },
  {
   "cell_type": "code",
   "execution_count": 97,
   "id": "4fb7077d",
   "metadata": {
    "ExecuteTime": {
     "end_time": "2024-03-04T02:16:02.412482Z",
     "start_time": "2024-03-04T02:16:02.407913Z"
    }
   },
   "outputs": [
    {
     "data": {
      "text/plain": [
       "dict_values(['pey', '010-9999-1234', '1118'])"
      ]
     },
     "execution_count": 97,
     "metadata": {},
     "output_type": "execute_result"
    }
   ],
   "source": [
    "a.values()\n"
   ]
  },
  {
   "cell_type": "code",
   "execution_count": 99,
   "id": "5e6c8d93",
   "metadata": {
    "ExecuteTime": {
     "end_time": "2024-03-04T02:16:33.897556Z",
     "start_time": "2024-03-04T02:16:33.882367Z"
    }
   },
   "outputs": [
    {
     "ename": "AttributeError",
     "evalue": "'dict' object has no attribute 'key'",
     "output_type": "error",
     "traceback": [
      "\u001b[1;31m---------------------------------------------------------------------------\u001b[0m",
      "\u001b[1;31mAttributeError\u001b[0m                            Traceback (most recent call last)",
      "Cell \u001b[1;32mIn[99], line 1\u001b[0m\n\u001b[1;32m----> 1\u001b[0m \u001b[38;5;28;01mfor\u001b[39;00m k \u001b[38;5;129;01min\u001b[39;00m a\u001b[38;5;241m.\u001b[39mkey():\n\u001b[0;32m      2\u001b[0m     \u001b[38;5;28mprint\u001b[39m(k)\n",
      "\u001b[1;31mAttributeError\u001b[0m: 'dict' object has no attribute 'key'"
     ]
    }
   ],
   "source": [
    "for k in a.key():\n",
    "    print(k)"
   ]
  },
  {
   "cell_type": "code",
   "execution_count": 100,
   "id": "4aed2da6",
   "metadata": {
    "ExecuteTime": {
     "end_time": "2024-03-04T02:17:57.424785Z",
     "start_time": "2024-03-04T02:17:57.408916Z"
    }
   },
   "outputs": [
    {
     "ename": "TypeError",
     "evalue": "'tuple' object doesn't support item deletion",
     "output_type": "error",
     "traceback": [
      "\u001b[1;31m---------------------------------------------------------------------------\u001b[0m",
      "\u001b[1;31mTypeError\u001b[0m                                 Traceback (most recent call last)",
      "Cell \u001b[1;32mIn[100], line 2\u001b[0m\n\u001b[0;32m      1\u001b[0m t1 \u001b[38;5;241m=\u001b[39m (\u001b[38;5;241m1\u001b[39m, \u001b[38;5;241m2\u001b[39m, \u001b[38;5;124m'\u001b[39m\u001b[38;5;124ma\u001b[39m\u001b[38;5;124m'\u001b[39m, \u001b[38;5;124m'\u001b[39m\u001b[38;5;124mb\u001b[39m\u001b[38;5;124m'\u001b[39m)\n\u001b[1;32m----> 2\u001b[0m \u001b[38;5;28;01mdel\u001b[39;00m t1[\u001b[38;5;241m0\u001b[39m]\n",
      "\u001b[1;31mTypeError\u001b[0m: 'tuple' object doesn't support item deletion"
     ]
    }
   ],
   "source": []
  },
  {
   "cell_type": "code",
   "execution_count": 102,
   "id": "7a21794d",
   "metadata": {
    "ExecuteTime": {
     "end_time": "2024-03-04T02:20:29.254150Z",
     "start_time": "2024-03-04T02:20:29.249304Z"
    }
   },
   "outputs": [
    {
     "data": {
      "text/plain": [
       "'pey'"
      ]
     },
     "execution_count": 102,
     "metadata": {},
     "output_type": "execute_result"
    }
   ],
   "source": [
    "a = {'name': 'pey', 'phone': '010-9999-1234', 'birth': '1118'}\n",
    "a.get('name')"
   ]
  },
  {
   "cell_type": "code",
   "execution_count": null,
   "id": "6f51106f",
   "metadata": {},
   "outputs": [],
   "source": [
    "a"
   ]
  },
  {
   "cell_type": "code",
   "execution_count": null,
   "id": "ae4b5ecd",
   "metadata": {},
   "outputs": [],
   "source": []
  }
 ],
 "metadata": {
  "kernelspec": {
   "display_name": "Python 3 (ipykernel)",
   "language": "python",
   "name": "python3"
  },
  "language_info": {
   "codemirror_mode": {
    "name": "ipython",
    "version": 3
   },
   "file_extension": ".py",
   "mimetype": "text/x-python",
   "name": "python",
   "nbconvert_exporter": "python",
   "pygments_lexer": "ipython3",
   "version": "3.11.5"
  }
 },
 "nbformat": 4,
 "nbformat_minor": 5
}

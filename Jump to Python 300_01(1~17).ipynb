{
 "cells": [
  {
   "cell_type": "markdown",
   "id": "21404cbb",
   "metadata": {},
   "source": [
    "### Print"
   ]
  },
  {
   "cell_type": "markdown",
   "id": "4aa726aa",
   "metadata": {},
   "source": [
    "### 1~10"
   ]
  },
  {
   "cell_type": "code",
   "execution_count": 2,
   "id": "2fd068ca",
   "metadata": {
    "ExecuteTime": {
     "end_time": "2024-03-02T05:37:50.572791Z",
     "start_time": "2024-03-02T05:37:50.569603Z"
    },
    "scrolled": true
   },
   "outputs": [
    {
     "name": "stdout",
     "output_type": "stream",
     "text": [
      "Hello World\n"
     ]
    }
   ],
   "source": [
    "print(\"Hello World\")"
   ]
  },
  {
   "cell_type": "code",
   "execution_count": 3,
   "id": "13cec2b4",
   "metadata": {
    "ExecuteTime": {
     "end_time": "2024-03-02T05:39:38.870302Z",
     "start_time": "2024-03-02T05:39:38.866324Z"
    }
   },
   "outputs": [
    {
     "name": "stdout",
     "output_type": "stream",
     "text": [
      "Mary's Cosmetics\n"
     ]
    }
   ],
   "source": [
    "print(\"Mary's Cosmetics\")"
   ]
  },
  {
   "cell_type": "code",
   "execution_count": 11,
   "id": "eb28ea9d",
   "metadata": {
    "ExecuteTime": {
     "end_time": "2024-03-02T07:40:43.484041Z",
     "start_time": "2024-03-02T07:40:43.478594Z"
    }
   },
   "outputs": [
    {
     "name": "stdout",
     "output_type": "stream",
     "text": [
      "\"신씨가 소리질렀다. \"도둑이야\".\n"
     ]
    }
   ],
   "source": [
    "print('\"신씨가 소리질렀다. \"도둑이야\".')"
   ]
  },
  {
   "cell_type": "code",
   "execution_count": 14,
   "id": "c8f1ab66",
   "metadata": {
    "ExecuteTime": {
     "end_time": "2024-03-02T05:45:52.120916Z",
     "start_time": "2024-03-02T05:45:52.117704Z"
    }
   },
   "outputs": [
    {
     "name": "stdout",
     "output_type": "stream",
     "text": [
      "c:\\Windows\n"
     ]
    }
   ],
   "source": [
    "print(\"c:\\Windows\")"
   ]
  },
  {
   "cell_type": "code",
   "execution_count": 31,
   "id": "c0c98f28",
   "metadata": {
    "ExecuteTime": {
     "end_time": "2024-03-02T06:42:27.008210Z",
     "start_time": "2024-03-02T06:42:27.003685Z"
    }
   },
   "outputs": [
    {
     "name": "stdout",
     "output_type": "stream",
     "text": [
      "안녕하세요. \n",
      "만나서 \t\t\t\t반갑습니다.\n"
     ]
    }
   ],
   "source": [
    "print(\"안녕하세요. \\n만나서 \\t\\t\\t\\t반갑습니다.\")"
   ]
  },
  {
   "cell_type": "code",
   "execution_count": 19,
   "id": "a9014520",
   "metadata": {
    "ExecuteTime": {
     "end_time": "2024-03-02T05:53:14.661691Z",
     "start_time": "2024-03-02T05:53:14.658022Z"
    },
    "scrolled": true
   },
   "outputs": [
    {
     "name": "stdout",
     "output_type": "stream",
     "text": [
      "오늘은 일요일\n"
     ]
    }
   ],
   "source": [
    "print(\"오늘은\",\"일요일\")"
   ]
  },
  {
   "cell_type": "code",
   "execution_count": 20,
   "id": "188dc976",
   "metadata": {
    "ExecuteTime": {
     "end_time": "2024-03-02T05:53:49.472849Z",
     "start_time": "2024-03-02T05:53:49.468912Z"
    }
   },
   "outputs": [
    {
     "name": "stdout",
     "output_type": "stream",
     "text": [
      "naver;kakao;sk;sumsung\n"
     ]
    }
   ],
   "source": [
    "print(\"naver;kakao;sk;sumsung\")"
   ]
  },
  {
   "cell_type": "markdown",
   "id": "4716811e",
   "metadata": {},
   "source": [
    "^ 사이값 넣어주는 파라미터"
   ]
  },
  {
   "cell_type": "code",
   "execution_count": 22,
   "id": "62f19ad4",
   "metadata": {
    "ExecuteTime": {
     "end_time": "2024-03-02T05:54:47.511162Z",
     "start_time": "2024-03-02T05:54:47.507041Z"
    },
    "scrolled": true
   },
   "outputs": [
    {
     "name": "stdout",
     "output_type": "stream",
     "text": [
      "naver;kakao;sk;sumsung\n"
     ]
    }
   ],
   "source": [
    "print(\"naver\",\"kakao\",\"sk\",\"sumsung\",sep=';')"
   ]
  },
  {
   "cell_type": "code",
   "execution_count": 23,
   "id": "67b9aa6c",
   "metadata": {
    "ExecuteTime": {
     "end_time": "2024-03-02T06:15:15.997740Z",
     "start_time": "2024-03-02T06:15:15.993726Z"
    },
    "scrolled": true
   },
   "outputs": [
    {
     "name": "stdout",
     "output_type": "stream",
     "text": [
      "naver>kakao>sk>sumsung\n"
     ]
    }
   ],
   "source": [
    "print(\"naver\",\"kakao\",\"sk\",\"sumsung\",sep='>')"
   ]
  },
  {
   "cell_type": "code",
   "execution_count": 26,
   "id": "d952facf",
   "metadata": {
    "ExecuteTime": {
     "end_time": "2024-03-02T06:18:52.499027Z",
     "start_time": "2024-03-02T06:18:52.495322Z"
    },
    "scrolled": true
   },
   "outputs": [
    {
     "name": "stdout",
     "output_type": "stream",
     "text": [
      "first second\n"
     ]
    }
   ],
   "source": [
    "print(\"first\",\"second\");"
   ]
  },
  {
   "cell_type": "markdown",
   "id": "c168b3f0",
   "metadata": {},
   "source": [
    "^print다음 기본 값은 엔터라서 이것을 없애주는게 end인듯"
   ]
  },
  {
   "cell_type": "code",
   "execution_count": 29,
   "id": "1a3ef3b7",
   "metadata": {
    "ExecuteTime": {
     "end_time": "2024-03-02T06:31:20.551806Z",
     "start_time": "2024-03-02T06:31:20.546604Z"
    }
   },
   "outputs": [
    {
     "name": "stdout",
     "output_type": "stream",
     "text": [
      "first second\n"
     ]
    }
   ],
   "source": [
    "print(\"first\", end=\"\"); print(\"second\")\n"
   ]
  },
  {
   "cell_type": "code",
   "execution_count": 30,
   "id": "e5994b1b",
   "metadata": {
    "ExecuteTime": {
     "end_time": "2024-03-02T06:42:06.307830Z",
     "start_time": "2024-03-02T06:42:06.303152Z"
    }
   },
   "outputs": [
    {
     "name": "stdout",
     "output_type": "stream",
     "text": [
      "1.6666666666666667\n"
     ]
    }
   ],
   "source": [
    "print(5/3)"
   ]
  },
  {
   "cell_type": "markdown",
   "id": "ae1dc141",
   "metadata": {},
   "source": [
    "### 11~20"
   ]
  },
  {
   "cell_type": "code",
   "execution_count": 32,
   "id": "ad388879",
   "metadata": {
    "ExecuteTime": {
     "end_time": "2024-03-02T06:50:50.664470Z",
     "start_time": "2024-03-02T06:50:50.657985Z"
    },
    "scrolled": true
   },
   "outputs": [
    {
     "name": "stdout",
     "output_type": "stream",
     "text": [
      "500000\n"
     ]
    }
   ],
   "source": [
    "삼성전자 = 50000\n",
    "총평가금액 = 삼성전자 * 10\n",
    "print(총평가금액)"
   ]
  },
  {
   "cell_type": "code",
   "execution_count": 43,
   "id": "005151c8",
   "metadata": {
    "ExecuteTime": {
     "end_time": "2024-03-02T06:54:55.382223Z",
     "start_time": "2024-03-02T06:54:55.377017Z"
    }
   },
   "outputs": [
    {
     "name": "stdout",
     "output_type": "stream",
     "text": [
      "298000000000000 <class 'int'>\n",
      "50000 <class 'int'>\n",
      "15.79 <class 'float'>\n"
     ]
    }
   ],
   "source": [
    "시가총액 = 298000000000000\n",
    "현재가 = 50000\n",
    "PER = 15.79\n",
    "print(시가총액, type(시가총액))\n",
    "print(현재가, type(현재가))\n",
    "print(PER, type(PER))"
   ]
  },
  {
   "cell_type": "markdown",
   "id": "fab965e2",
   "metadata": {},
   "source": [
    "int = 정수,소수없음 float = 소수포함 "
   ]
  },
  {
   "cell_type": "code",
   "execution_count": 83,
   "id": "d1edbfc4",
   "metadata": {
    "ExecuteTime": {
     "end_time": "2024-03-02T07:30:54.108703Z",
     "start_time": "2024-03-02T07:30:54.103210Z"
    }
   },
   "outputs": [
    {
     "name": "stdout",
     "output_type": "stream",
     "text": [
      "100000.0\n",
      "1e-05\n",
      "100000\n",
      "0.00001\n",
      "<class 'float'>\n"
     ]
    }
   ],
   "source": [
    "num1 = 1.0e+5 # 출력:100000.0\n",
    "print(num1);\n",
    "\n",
    "num2 = 1.0e-5  # 출력: 1e-05\n",
    "print(num2);\n",
    "\n",
    "num3 = 1.0e+5\n",
    "print('{:.0f}'.format(num3))  # 출력: 100000 소수점 이하 5자리까지 표현\n",
    "\n",
    "num4 = 1.0e-5\n",
    "print('{:.5f}'.format(num4))  # 출력: 0.00001\n",
    "\n",
    "print(type(num2))"
   ]
  },
  {
   "cell_type": "markdown",
   "id": "b34b9727",
   "metadata": {},
   "source": [
    "양수 지수는 바로 표기되는데, 음수 지수표기법은 정수로 변환되어 출력되지 않는 이유는? 포맷방식을 지정해주는 이유는?"
   ]
  },
  {
   "cell_type": "code",
   "execution_count": 68,
   "id": "145ef93f",
   "metadata": {
    "ExecuteTime": {
     "end_time": "2024-03-02T07:26:45.153098Z",
     "start_time": "2024-03-02T07:26:45.148796Z"
    }
   },
   "outputs": [
    {
     "name": "stdout",
     "output_type": "stream",
     "text": [
      "hello python\n"
     ]
    }
   ],
   "source": [
    "s = \"hello\"\n",
    "t = \"python\"\n",
    "print(s, t);"
   ]
  },
  {
   "cell_type": "code",
   "execution_count": 74,
   "id": "cca187f6",
   "metadata": {
    "ExecuteTime": {
     "end_time": "2024-03-02T07:28:31.492241Z",
     "start_time": "2024-03-02T07:28:31.488264Z"
    }
   },
   "outputs": [
    {
     "name": "stdout",
     "output_type": "stream",
     "text": [
      "hello! python! it's mina!\n"
     ]
    }
   ],
   "source": [
    "print(s+\"!\",t+\"!\",\"it's mina!\")"
   ]
  },
  {
   "cell_type": "code",
   "execution_count": 77,
   "id": "3ab392cf",
   "metadata": {
    "ExecuteTime": {
     "end_time": "2024-03-02T07:29:30.995182Z",
     "start_time": "2024-03-02T07:29:30.990248Z"
    }
   },
   "outputs": [
    {
     "name": "stdout",
     "output_type": "stream",
     "text": [
      "8\n"
     ]
    }
   ],
   "source": [
    "print(2+2*3)"
   ]
  },
  {
   "cell_type": "code",
   "execution_count": 86,
   "id": "26446c5a",
   "metadata": {
    "ExecuteTime": {
     "end_time": "2024-03-02T07:31:59.021243Z",
     "start_time": "2024-03-02T07:31:59.017522Z"
    }
   },
   "outputs": [
    {
     "name": "stdout",
     "output_type": "stream",
     "text": [
      "<class 'int'>\n"
     ]
    }
   ],
   "source": [
    "a = 132\n",
    "print (type(a))\n",
    "\n"
   ]
  },
  {
   "cell_type": "code",
   "execution_count": 98,
   "id": "dc3cb5e6",
   "metadata": {
    "ExecuteTime": {
     "end_time": "2024-03-02T07:40:43.484041Z",
     "start_time": "2024-03-02T07:40:43.478594Z"
    }
   },
   "outputs": [
    {
     "name": "stdout",
     "output_type": "stream",
     "text": [
      "-719 <class 'int'>\n"
     ]
    }
   ],
   "source": [
    "num_st2 = \"-720\" #형변환\n",
    "\n",
    "num_int = int(num_st2)\n",
    "print(num_int+1, type(num_int))"
   ]
  },
  {
   "cell_type": "markdown",
   "id": "9b7292da",
   "metadata": {},
   "source": [
    "숫자인문자 = \"이 안에 들어간 것을 바인딩\"\n",
    "숫자인숫자 = int(숫자인문자)  <변환과정\n",
    "\n",
    "확인 위해 프린트(숫자인숫자+1, 그리고 타입확인하기)"
   ]
  },
  {
   "cell_type": "code",
   "execution_count": 104,
   "id": "4fb4a843",
   "metadata": {
    "ExecuteTime": {
     "end_time": "2024-03-02T07:42:44.772307Z",
     "start_time": "2024-03-02T07:42:44.767851Z"
    }
   },
   "outputs": [
    {
     "name": "stdout",
     "output_type": "stream",
     "text": [
      "1000\n"
     ]
    }
   ],
   "source": [
    "num = 100 # 같은 이름일 경우 가장 최근 것으로 바인딩됨.\n",
    "num = 1000 \n",
    "\n",
    "print(num)"
   ]
  },
  {
   "cell_type": "code",
   "execution_count": 114,
   "id": "c60ce4f0",
   "metadata": {
    "ExecuteTime": {
     "end_time": "2024-03-02T07:46:04.570615Z",
     "start_time": "2024-03-02T07:46:04.567087Z"
    }
   },
   "outputs": [
    {
     "name": "stdout",
     "output_type": "stream",
     "text": [
      "100원만 주시죠?\n",
      "100 <class 'str'>\n"
     ]
    }
   ],
   "source": [
    "num = 100\n",
    "num_str2 = str(num)\n",
    "print(num_str2 + \"원만 주시죠?\")\n",
    "print(num_str2, type(num_str2));"
   ]
  },
  {
   "cell_type": "code",
   "execution_count": 121,
   "id": "d61022aa",
   "metadata": {
    "ExecuteTime": {
     "end_time": "2024-03-02T08:16:51.338184Z",
     "start_time": "2024-03-02T08:16:51.320928Z"
    }
   },
   "outputs": [
    {
     "ename": "TypeError",
     "evalue": "'tuple' object is not callable",
     "output_type": "error",
     "traceback": [
      "\u001b[1;31m---------------------------------------------------------------------------\u001b[0m",
      "\u001b[1;31mTypeError\u001b[0m                                 Traceback (most recent call last)",
      "Cell \u001b[1;32mIn[121], line 3\u001b[0m\n\u001b[0;32m      1\u001b[0m num_str \u001b[38;5;241m=\u001b[39m \u001b[38;5;124m\"\u001b[39m\u001b[38;5;124m15.79\u001b[39m\u001b[38;5;124m\"\u001b[39m\n\u001b[0;32m      2\u001b[0m num_str \u001b[38;5;241m=\u001b[39m \u001b[38;5;28mfloat\u001b[39m(num_str)\n\u001b[1;32m----> 3\u001b[0m \u001b[38;5;28mprint\u001b[39m(num_str, \u001b[38;5;28mtype\u001b[39m(num_str))\n",
      "\u001b[1;31mTypeError\u001b[0m: 'tuple' object is not callable"
     ]
    }
   ],
   "source": [
    "num_str = \"15.79\"\n",
    "num_str = float(num_str)\n",
    "print(num_str, type(num_str));"
   ]
  },
  {
   "cell_type": "code",
   "execution_count": 125,
   "id": "0e5a2602",
   "metadata": {
    "ExecuteTime": {
     "end_time": "2024-03-02T08:19:31.503656Z",
     "start_time": "2024-03-02T08:19:31.483946Z"
    }
   },
   "outputs": [
    {
     "ename": "TypeError",
     "evalue": "'tuple' object is not callable",
     "output_type": "error",
     "traceback": [
      "\u001b[1;31m---------------------------------------------------------------------------\u001b[0m",
      "\u001b[1;31mTypeError\u001b[0m                                 Traceback (most recent call last)",
      "Cell \u001b[1;32mIn[125], line 3\u001b[0m\n\u001b[0;32m      1\u001b[0m data \u001b[38;5;241m=\u001b[39m \u001b[38;5;124m\"\u001b[39m\u001b[38;5;124m15.79\u001b[39m\u001b[38;5;124m\"\u001b[39m\n\u001b[0;32m      2\u001b[0m \u001b[38;5;28mfloat\u001b[39m \u001b[38;5;241m=\u001b[39m (data)  \u001b[38;5;66;03m# 여기서 실수형으로 변환하려고 했지만, 실제로는 튜플을 생성하게 됨\u001b[39;00m\n\u001b[1;32m----> 3\u001b[0m \u001b[38;5;28mprint\u001b[39m(\u001b[38;5;28mfloat\u001b[39m, \u001b[38;5;28mtype\u001b[39m(\u001b[38;5;28mfloat\u001b[39m))\n",
      "\u001b[1;31mTypeError\u001b[0m: 'tuple' object is not callable"
     ]
    }
   ],
   "source": [
    "data = \"15.79\"\n",
    "float = (data)  # 여기서 실수형으로 변환하려고 했지만, 실제로는 튜플을 생성하게 됨\n",
    "print(float, type(float))\n"
   ]
  },
  {
   "cell_type": "code",
   "execution_count": 127,
   "id": "f50033d9",
   "metadata": {
    "ExecuteTime": {
     "end_time": "2024-03-02T08:27:28.929856Z",
     "start_time": "2024-03-02T08:27:28.912855Z"
    }
   },
   "outputs": [
    {
     "ename": "TypeError",
     "evalue": "'str' object is not callable",
     "output_type": "error",
     "traceback": [
      "\u001b[1;31m---------------------------------------------------------------------------\u001b[0m",
      "\u001b[1;31mTypeError\u001b[0m                                 Traceback (most recent call last)",
      "Cell \u001b[1;32mIn[127], line 2\u001b[0m\n\u001b[0;32m      1\u001b[0m data \u001b[38;5;241m=\u001b[39m \u001b[38;5;124m\"\u001b[39m\u001b[38;5;124m15.79\u001b[39m\u001b[38;5;124m\"\u001b[39m\n\u001b[1;32m----> 2\u001b[0m float_value \u001b[38;5;241m=\u001b[39m \u001b[38;5;28mfloat\u001b[39m(data)  \u001b[38;5;66;03m# 변수 이름을 'float_value'로 변경\u001b[39;00m\n\u001b[0;32m      3\u001b[0m \u001b[38;5;28mprint\u001b[39m(float_value, \u001b[38;5;28mtype\u001b[39m(float_value))\n",
      "\u001b[1;31mTypeError\u001b[0m: 'str' object is not callable"
     ]
    }
   ],
   "source": [
    "data = \"15.79\"\n",
    "float_value = float(data)  # 변수 이름을 'float_value'로 변경 but silpae\n",
    "print(float_value, type(float_value))\n"
   ]
  },
  {
   "cell_type": "code",
   "execution_count": null,
   "id": "e14f9fc8",
   "metadata": {},
   "outputs": [],
   "source": []
  },
  {
   "cell_type": "code",
   "execution_count": null,
   "id": "b64e83ea",
   "metadata": {},
   "outputs": [],
   "source": []
  },
  {
   "cell_type": "code",
   "execution_count": null,
   "id": "a32e7d1a",
   "metadata": {},
   "outputs": [],
   "source": []
  },
  {
   "cell_type": "code",
   "execution_count": null,
   "id": "80898e84",
   "metadata": {},
   "outputs": [],
   "source": []
  },
  {
   "cell_type": "code",
   "execution_count": null,
   "id": "075c6435",
   "metadata": {},
   "outputs": [],
   "source": []
  },
  {
   "cell_type": "code",
   "execution_count": null,
   "id": "0c79e3e0",
   "metadata": {},
   "outputs": [],
   "source": []
  },
  {
   "cell_type": "code",
   "execution_count": null,
   "id": "86f28d78",
   "metadata": {},
   "outputs": [],
   "source": []
  },
  {
   "cell_type": "code",
   "execution_count": null,
   "id": "3080a07a",
   "metadata": {},
   "outputs": [],
   "source": []
  },
  {
   "cell_type": "code",
   "execution_count": null,
   "id": "3a1863bd",
   "metadata": {},
   "outputs": [],
   "source": []
  },
  {
   "cell_type": "code",
   "execution_count": null,
   "id": "8f9220c0",
   "metadata": {},
   "outputs": [],
   "source": []
  },
  {
   "cell_type": "code",
   "execution_count": null,
   "id": "5c29e13f",
   "metadata": {},
   "outputs": [],
   "source": []
  },
  {
   "cell_type": "code",
   "execution_count": null,
   "id": "de743b13",
   "metadata": {},
   "outputs": [],
   "source": []
  },
  {
   "cell_type": "code",
   "execution_count": null,
   "id": "8f372f6b",
   "metadata": {},
   "outputs": [],
   "source": []
  },
  {
   "cell_type": "code",
   "execution_count": null,
   "id": "3d867c79",
   "metadata": {},
   "outputs": [],
   "source": []
  },
  {
   "cell_type": "code",
   "execution_count": null,
   "id": "03d7f22a",
   "metadata": {},
   "outputs": [],
   "source": []
  }
 ],
 "metadata": {
  "kernelspec": {
   "display_name": "Python 3 (ipykernel)",
   "language": "python",
   "name": "python3"
  },
  "language_info": {
   "codemirror_mode": {
    "name": "ipython",
    "version": 3
   },
   "file_extension": ".py",
   "mimetype": "text/x-python",
   "name": "python",
   "nbconvert_exporter": "python",
   "pygments_lexer": "ipython3",
   "version": "3.11.5"
  }
 },
 "nbformat": 4,
 "nbformat_minor": 5
}

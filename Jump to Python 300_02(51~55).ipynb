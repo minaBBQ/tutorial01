{
 "cells": [
  {
   "cell_type": "code",
   "execution_count": 29,
   "id": "7d2acc68",
   "metadata": {
    "ExecuteTime": {
     "end_time": "2024-03-04T23:50:04.292306Z",
     "start_time": "2024-03-04T23:50:04.287876Z"
    }
   },
   "outputs": [
    {
     "name": "stdout",
     "output_type": "stream",
     "text": [
      "['닥터 스트레인지', '스플릿', '럭키', '베트맨']\n"
     ]
    }
   ],
   "source": [
    "#051 리스트 생성\n",
    "\n",
    "movie_rank = [\"닥터 스트레인지\", \"스플릿\", \"럭키\"]\n",
    "movie_rank.append(\"베트맨\")\n",
    "print(movie_rank)"
   ]
  },
  {
   "cell_type": "code",
   "execution_count": 30,
   "id": "96a51e8a",
   "metadata": {
    "ExecuteTime": {
     "end_time": "2024-03-04T23:50:05.729663Z",
     "start_time": "2024-03-04T23:50:05.726382Z"
    }
   },
   "outputs": [
    {
     "name": "stdout",
     "output_type": "stream",
     "text": [
      "['닥터 스트레인지', '슈퍼맨', '스플릿', '럭키', '베트맨']\n"
     ]
    }
   ],
   "source": [
    "movie_rank.insert(1,\"슈퍼맨\")\n",
    "print(movie_rank)"
   ]
  },
  {
   "cell_type": "code",
   "execution_count": 31,
   "id": "6a65dd41",
   "metadata": {
    "ExecuteTime": {
     "end_time": "2024-03-04T23:50:07.291310Z",
     "start_time": "2024-03-04T23:50:07.287996Z"
    }
   },
   "outputs": [
    {
     "name": "stdout",
     "output_type": "stream",
     "text": [
      "['닥터 스트레인지', '슈퍼맨', '스플릿', '베트맨']\n"
     ]
    }
   ],
   "source": [
    "del movie_rank[3]\n",
    "print(movie_rank)"
   ]
  },
  {
   "cell_type": "code",
   "execution_count": 33,
   "id": "0ab05f05",
   "metadata": {
    "ExecuteTime": {
     "end_time": "2024-03-04T23:50:11.854998Z",
     "start_time": "2024-03-04T23:50:11.851568Z"
    }
   },
   "outputs": [
    {
     "name": "stdout",
     "output_type": "stream",
     "text": [
      "['닥터 스트레인지', '슈퍼맨']\n"
     ]
    }
   ],
   "source": [
    "del movie_rank [2] #두번 실행\n",
    "\n",
    "print(movie_rank)"
   ]
  },
  {
   "cell_type": "code",
   "execution_count": null,
   "id": "7aaf90ee",
   "metadata": {},
   "outputs": [],
   "source": []
  }
 ],
 "metadata": {
  "kernelspec": {
   "display_name": "Python 3 (ipykernel)",
   "language": "python",
   "name": "python3"
  },
  "language_info": {
   "codemirror_mode": {
    "name": "ipython",
    "version": 3
   },
   "file_extension": ".py",
   "mimetype": "text/x-python",
   "name": "python",
   "nbconvert_exporter": "python",
   "pygments_lexer": "ipython3",
   "version": "3.11.5"
  }
 },
 "nbformat": 4,
 "nbformat_minor": 5
}

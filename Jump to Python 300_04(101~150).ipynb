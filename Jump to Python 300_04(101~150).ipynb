{
 "cells": [
  {
   "cell_type": "markdown",
   "id": "eee679eb",
   "metadata": {},
   "source": [
    "### 비교 연산자"
   ]
  },
  {
   "cell_type": "code",
   "execution_count": 2,
   "id": "bef4de23",
   "metadata": {
    "ExecuteTime": {
     "end_time": "2024-03-05T00:36:02.270338Z",
     "start_time": "2024-03-05T00:36:02.266947Z"
    },
    "scrolled": true
   },
   "outputs": [
    {
     "name": "stdout",
     "output_type": "stream",
     "text": [
      "False\n"
     ]
    }
   ],
   "source": [
    "#101\n",
    "print(3 == 5)\n"
   ]
  },
  {
   "cell_type": "code",
   "execution_count": 3,
   "id": "5e204ba6",
   "metadata": {
    "ExecuteTime": {
     "end_time": "2024-03-05T00:36:08.222017Z",
     "start_time": "2024-03-05T00:36:08.218402Z"
    }
   },
   "outputs": [
    {
     "name": "stdout",
     "output_type": "stream",
     "text": [
      "True\n"
     ]
    }
   ],
   "source": [
    "x = 4\n",
    "print(1 < x < 5)"
   ]
  },
  {
   "cell_type": "code",
   "execution_count": 28,
   "id": "8f2c6944",
   "metadata": {
    "ExecuteTime": {
     "end_time": "2024-03-05T00:54:57.535306Z",
     "start_time": "2024-03-05T00:54:57.529862Z"
    },
    "scrolled": true
   },
   "outputs": [
    {
     "name": "stdout",
     "output_type": "stream",
     "text": [
      "True\n"
     ]
    }
   ],
   "source": [
    "print ((3 == 3) and (4 != 3))\n"
   ]
  },
  {
   "cell_type": "code",
   "execution_count": 32,
   "id": "c0a27f29",
   "metadata": {
    "ExecuteTime": {
     "end_time": "2024-03-05T00:56:48.951472Z",
     "start_time": "2024-03-05T00:56:48.948220Z"
    }
   },
   "outputs": [
    {
     "ename": "SyntaxError",
     "evalue": "expression cannot contain assignment, perhaps you meant \"==\"? (3260908991.py, line 5)",
     "output_type": "error",
     "traceback": [
      "\u001b[1;36m  Cell \u001b[1;32mIn[32], line 5\u001b[1;36m\u001b[0m\n\u001b[1;33m    print(3 =< 4)\u001b[0m\n\u001b[1;37m          ^\u001b[0m\n\u001b[1;31mSyntaxError\u001b[0m\u001b[1;31m:\u001b[0m expression cannot contain assignment, perhaps you meant \"==\"?\n"
     ]
    }
   ],
   "source": [
    "#106  지원하지 않는 연산자 why? \n",
    "\n",
    "# x >= y\n",
    "# x <= y\n",
    "print(3 =< 4)"
   ]
  },
  {
   "cell_type": "markdown",
   "id": "40f6fbe1",
   "metadata": {},
   "source": [
    "### IF 문"
   ]
  },
  {
   "cell_type": "code",
   "execution_count": 15,
   "id": "22fe8728",
   "metadata": {
    "ExecuteTime": {
     "end_time": "2024-03-05T00:41:13.959157Z",
     "start_time": "2024-03-05T00:41:13.955434Z"
    }
   },
   "outputs": [
    {
     "name": "stdout",
     "output_type": "stream",
     "text": [
      "택시를 타고 가라\n"
     ]
    }
   ],
   "source": [
    "money = True\n",
    "if money:\n",
    "    print(\"택시를 타고 가라\")\n",
    "else:\n",
    "    print(\"걸어 가라\")"
   ]
  },
  {
   "cell_type": "code",
   "execution_count": 17,
   "id": "c9a87a83",
   "metadata": {
    "ExecuteTime": {
     "end_time": "2024-03-05T00:42:12.317459Z",
     "start_time": "2024-03-05T00:42:12.312600Z"
    }
   },
   "outputs": [
    {
     "name": "stdout",
     "output_type": "stream",
     "text": [
      "걸어 가라\n"
     ]
    }
   ],
   "source": [
    "money = 2000\n",
    "if money >= 3000:\n",
    "    print(\"택시를 타고 가라\")\n",
    "else:\n",
    "    print(\"걸어 가라\")"
   ]
  },
  {
   "cell_type": "code",
   "execution_count": 22,
   "id": "84dc66ef",
   "metadata": {
    "ExecuteTime": {
     "end_time": "2024-03-05T00:43:44.408279Z",
     "start_time": "2024-03-05T00:43:44.404798Z"
    },
    "scrolled": true
   },
   "outputs": [
    {
     "name": "stdout",
     "output_type": "stream",
     "text": [
      "택시 타\n"
     ]
    }
   ],
   "source": [
    "money = 4000\n",
    "card = True\n",
    "if money >= 3000:\n",
    "    print(\"택시 타\")\n",
    "else:\n",
    "    print(\"걸어 가\")"
   ]
  },
  {
   "cell_type": "code",
   "execution_count": 33,
   "id": "ac17a4b8",
   "metadata": {
    "ExecuteTime": {
     "end_time": "2024-03-05T00:57:54.151693Z",
     "start_time": "2024-03-05T00:57:54.147624Z"
    }
   },
   "outputs": [],
   "source": [
    "pocket = ['paper', 'money', 'cellphone']\n",
    "if 'money' in pocket: pass\n",
    "else: \n",
    "    print(\"카드를 꺼내라\")"
   ]
  },
  {
   "cell_type": "code",
   "execution_count": 38,
   "id": "33b3084a",
   "metadata": {
    "ExecuteTime": {
     "end_time": "2024-03-05T00:58:25.213699Z",
     "start_time": "2024-03-05T00:58:25.209697Z"
    }
   },
   "outputs": [
    {
     "name": "stdout",
     "output_type": "stream",
     "text": [
      "Hello World\n"
     ]
    }
   ],
   "source": [
    "#107\n",
    "if 2 < 3:\n",
    "    print(\"Hello World\")\n"
   ]
  },
  {
   "cell_type": "code",
   "execution_count": 40,
   "id": "d6cb4016",
   "metadata": {
    "ExecuteTime": {
     "end_time": "2024-03-05T00:58:36.663102Z",
     "start_time": "2024-03-05T00:58:36.659854Z"
    }
   },
   "outputs": [
    {
     "name": "stdout",
     "output_type": "stream",
     "text": [
      "Hi, there.\n"
     ]
    }
   ],
   "source": [
    "if 4 < 3:\n",
    "    print(\"Hello World.\")\n",
    "else:\n",
    "    print(\"Hi, there.\")\n"
   ]
  },
  {
   "cell_type": "code",
   "execution_count": 49,
   "id": "dbe2e732",
   "metadata": {
    "ExecuteTime": {
     "end_time": "2024-03-05T01:03:48.014144Z",
     "start_time": "2024-03-05T01:03:48.009878Z"
    }
   },
   "outputs": [
    {
     "name": "stdout",
     "output_type": "stream",
     "text": [
      "1\n",
      "2\n",
      "4\n"
     ]
    }
   ],
   "source": [
    "# print(\"4\")가 else문의 블록에 들여쓰기가 되어 있지 않아서, \n",
    "#항상 조건식이 True이든 False이든 마지막에 print(\"4\")가 실행됩니다.\n",
    "if True :\n",
    "    print (\"1\")\n",
    "    print (\"2\")\n",
    "else :\n",
    "    print(\"3\")\n",
    "print(\"4\")\n"
   ]
  },
  {
   "cell_type": "code",
   "execution_count": 55,
   "id": "8d8b97a7",
   "metadata": {
    "ExecuteTime": {
     "end_time": "2024-03-05T01:09:08.639345Z",
     "start_time": "2024-03-05T01:09:08.634292Z"
    }
   },
   "outputs": [
    {
     "name": "stdout",
     "output_type": "stream",
     "text": [
      "택시 타고 가\n"
     ]
    }
   ],
   "source": [
    "pocket = ['papar','cellphone']\n",
    "card =True\n",
    "\n",
    "if 'money' in pocket:  # IN 밑으로 내려가면 안돼\n",
    "    print(\"택시 타고 가\")\n",
    "elif card:\n",
    "    print(\"택시 타고 가\")\n",
    "else:\n",
    "    print(\"걷자\")"
   ]
  },
  {
   "cell_type": "markdown",
   "id": "09009d8a",
   "metadata": {},
   "source": [
    "### input\n",
    "\n",
    "input 창 어떻게 열까? 열렸던 것 같은데? # 111~130"
   ]
  },
  {
   "cell_type": "code",
   "execution_count": 62,
   "id": "a7968b96",
   "metadata": {
    "ExecuteTime": {
     "end_time": "2024-03-05T01:29:13.341548Z",
     "start_time": "2024-03-05T01:29:11.689123Z"
    }
   },
   "outputs": [
    {
     "name": "stdout",
     "output_type": "stream",
     "text": [
      "입력:3\n",
      "33\n"
     ]
    }
   ],
   "source": [
    "#111 input 창 어떻게 열까?\n",
    "\n",
    "user = input(\"입력:\")\n",
    "print(user * 2)"
   ]
  },
  {
   "cell_type": "code",
   "execution_count": 61,
   "id": "5ea41555",
   "metadata": {
    "ExecuteTime": {
     "end_time": "2024-03-05T01:29:09.818211Z",
     "start_time": "2024-03-05T01:29:07.475019Z"
    }
   },
   "outputs": [
    {
     "name": "stdout",
     "output_type": "stream",
     "text": [
      "숫자를 입력하세요:3\n",
      "13\n"
     ]
    }
   ],
   "source": [
    "user = input(\"숫자를 입력하세요:\")\n",
    "print(int(user)+10)"
   ]
  },
  {
   "cell_type": "code",
   "execution_count": 60,
   "id": "f2814787",
   "metadata": {
    "ExecuteTime": {
     "end_time": "2024-03-05T01:29:02.477426Z",
     "start_time": "2024-03-05T01:28:59.987796Z"
    }
   },
   "outputs": [
    {
     "name": "stdout",
     "output_type": "stream",
     "text": [
      "숫자를 입력하세요: 2\n",
      "12\n"
     ]
    }
   ],
   "source": [
    "user = input(\"숫자를 입력하세요: \")\n",
    "print(10 + int(user))\n"
   ]
  },
  {
   "cell_type": "code",
   "execution_count": 66,
   "id": "65225bbb",
   "metadata": {
    "ExecuteTime": {
     "end_time": "2024-03-05T01:35:26.414101Z",
     "start_time": "2024-03-05T01:35:25.637517Z"
    }
   },
   "outputs": [
    {
     "name": "stdout",
     "output_type": "stream",
     "text": [
      "33\n",
      "홀수\n"
     ]
    }
   ],
   "source": [
    "#113\n",
    "\n",
    "user2 = input(\"\")\n",
    "if int(user2) % 2 == 0:\n",
    "    print(\"짝수\")\n",
    "else:\n",
    "    print(\"홀수\")\n",
    "\n"
   ]
  },
  {
   "cell_type": "code",
   "execution_count": 75,
   "id": "0a67a2b5",
   "metadata": {
    "ExecuteTime": {
     "end_time": "2024-03-05T02:01:06.817792Z",
     "start_time": "2024-03-05T02:01:05.041672Z"
    }
   },
   "outputs": [
    {
     "name": "stdout",
     "output_type": "stream",
     "text": [
      "입력값:333\n",
      "출력값을 초과\n"
     ]
    }
   ],
   "source": [
    "#114\n",
    "user3 = input(\"입력값:\")\n",
    "num = 20 + int (user2)\n",
    "\n",
    "if int(num) > 255:\n",
    "    print(255)\n",
    "else:\n",
    "    print(\"출력값을 초과\")\n",
    "    "
   ]
  },
  {
   "cell_type": "code",
   "execution_count": 82,
   "id": "7dcbf06a",
   "metadata": {
    "ExecuteTime": {
     "end_time": "2024-03-05T02:09:13.781166Z",
     "start_time": "2024-03-05T02:09:11.354304Z"
    }
   },
   "outputs": [
    {
     "name": "stdout",
     "output_type": "stream",
     "text": [
      "입력값: 400\n",
      "출력값 초과\n"
     ]
    }
   ],
   "source": [
    "user = input(\"입력값: \")\n",
    "num_int = int(user) - 20\n",
    "\n",
    "if 255 > int(num_int) > 0:  #나오기는 하는데 이렇게는 안쓰나봐?? \n",
    "     print(num_int)\n",
    "else:\n",
    "    print(\"출력값 초과\")\n",
    "    "
   ]
  },
  {
   "cell_type": "code",
   "execution_count": 89,
   "id": "1c9a904f",
   "metadata": {
    "ExecuteTime": {
     "end_time": "2024-03-05T02:13:06.759824Z",
     "start_time": "2024-03-05T02:13:05.281132Z"
    }
   },
   "outputs": [
    {
     "name": "stdout",
     "output_type": "stream",
     "text": [
      "입력값: 40\n",
      "20\n"
     ]
    }
   ],
   "source": [
    "user = input(\"입력값: \")\n",
    "num_int = int(user) - 20\n",
    "\n",
    "# 계산된 값이 0보다 작거나 255보다 큰 경우에 대한 처리\n",
    "if num_int < 0 or num_int > 255:\n",
    "    print(\"출력값 초과\")\n",
    "else:\n",
    "    print(num_int)\n"
   ]
  },
  {
   "cell_type": "code",
   "execution_count": 84,
   "id": "7197083d",
   "metadata": {
    "ExecuteTime": {
     "end_time": "2024-03-05T02:10:14.458575Z",
     "start_time": "2024-03-05T02:10:12.255309Z"
    },
    "scrolled": true
   },
   "outputs": [
    {
     "name": "stdout",
     "output_type": "stream",
     "text": [
      "입력값: 2000\n",
      "255\n"
     ]
    }
   ],
   "source": [
    "user = input(\"입력값: \")\n",
    "num_int = int(user) - 20\n",
    "\n",
    "if num_int < 0:\n",
    "    print(0)\n",
    "elif num_int > 255:\n",
    "    print(255)\n",
    "else:\n",
    "    print(\"출력값 초과\")\n"
   ]
  },
  {
   "cell_type": "code",
   "execution_count": null,
   "id": "e15acaa5",
   "metadata": {},
   "outputs": [],
   "source": []
  },
  {
   "cell_type": "code",
   "execution_count": null,
   "id": "6914d1ad",
   "metadata": {},
   "outputs": [],
   "source": []
  },
  {
   "cell_type": "code",
   "execution_count": null,
   "id": "c5f3b84a",
   "metadata": {},
   "outputs": [],
   "source": []
  },
  {
   "cell_type": "code",
   "execution_count": null,
   "id": "e02bf3cf",
   "metadata": {},
   "outputs": [],
   "source": []
  },
  {
   "cell_type": "code",
   "execution_count": null,
   "id": "27e33479",
   "metadata": {},
   "outputs": [],
   "source": []
  },
  {
   "cell_type": "code",
   "execution_count": null,
   "id": "8ca57c7e",
   "metadata": {},
   "outputs": [],
   "source": []
  },
  {
   "cell_type": "markdown",
   "id": "1ad0f65d",
   "metadata": {},
   "source": [
    "# 반복문"
   ]
  },
  {
   "cell_type": "markdown",
   "id": "b1032c20",
   "metadata": {},
   "source": [
    "### while\n",
    "파이썬 for 문은 횟수가 정해져 있거나 상대적으로 횟수가 적은 경우에 대한 반복에 주로 사용됩니다. \n",
    "파이썬 while문은 횟수가 상대적으로 크거나 무한 루프 형태의 반복문에 사용됩니다."
   ]
  },
  {
   "cell_type": "markdown",
   "id": "c3f7fd56",
   "metadata": {},
   "source": [
    "while 조건문:\n",
    "    수행할_문장1\n",
    "    수행할_문장2\n",
    "    수행할_문장3\n",
    "    ...\n"
   ]
  },
  {
   "cell_type": "code",
   "execution_count": 58,
   "id": "85198f1a",
   "metadata": {
    "ExecuteTime": {
     "end_time": "2024-03-05T01:28:43.005363Z",
     "start_time": "2024-03-05T01:28:43.000333Z"
    },
    "scrolled": true
   },
   "outputs": [
    {
     "name": "stdout",
     "output_type": "stream",
     "text": [
      "나무를 1번 찍었습니다\n",
      "나무를 2번 찍었습니다\n",
      "나무를 3번 찍었습니다\n",
      "나무를 4번 찍었습니다\n",
      "나무를 5번 찍었습니다\n",
      "나무를 6번 찍었습니다\n",
      "나무를 7번 찍었습니다\n",
      "나무를 8번 찍었습니다\n",
      "나무를 9번 찍었습니다\n",
      "나무를 10번 찍었습니다\n",
      "나무 넘어갑니다.\n"
     ]
    }
   ],
   "source": [
    "treehit = 0\n",
    "while treehit < 10:\n",
    "    treehit = treehit +1\n",
    "    print(\"나무를 %d번 찍었습니다\" % treehit)\n",
    "    \n",
    "    if treehit == 10:\n",
    "        print(\"나무 넘어갑니다.\")\n",
    "\n"
   ]
  },
  {
   "cell_type": "code",
   "execution_count": 57,
   "id": "1a714ff7",
   "metadata": {
    "ExecuteTime": {
     "end_time": "2024-03-05T01:28:34.755276Z",
     "start_time": "2024-03-05T01:28:34.750842Z"
    }
   },
   "outputs": [
    {
     "name": "stdout",
     "output_type": "stream",
     "text": [
      "나무를 1번 찍었습니다.\n",
      "나무를 2번 찍었습니다.\n",
      "나무를 3번 찍었습니다.\n",
      "나무를 4번 찍었습니다.\n",
      "나무를 5번 찍었습니다.\n",
      "나무를 6번 찍었습니다.\n",
      "나무를 7번 찍었습니다.\n",
      "나무를 8번 찍었습니다.\n",
      "나무를 9번 찍었습니다.\n",
      "나무를 10번 찍었습니다.\n",
      "나무 넘어갑니다.\n"
     ]
    }
   ],
   "source": [
    "treeHit = 0\n",
    "while treeHit < 10:\n",
    "    treeHit = treeHit + 1\n",
    "    print(\"나무를 %d번 찍었습니다.\" % treeHit)\n",
    "    if treeHit == 10:\n",
    "        print(\"나무 넘어갑니다.\")\n"
   ]
  },
  {
   "cell_type": "code",
   "execution_count": null,
   "id": "a69ddd41",
   "metadata": {},
   "outputs": [],
   "source": []
  },
  {
   "cell_type": "code",
   "execution_count": null,
   "id": "bd955711",
   "metadata": {},
   "outputs": [],
   "source": []
  },
  {
   "cell_type": "markdown",
   "id": "51b72f96",
   "metadata": {},
   "source": [
    "### for (가장 중요합니다 )"
   ]
  },
  {
   "cell_type": "code",
   "execution_count": 90,
   "id": "d6bf6f9a",
   "metadata": {
    "ExecuteTime": {
     "end_time": "2024-03-05T02:15:39.811989Z",
     "start_time": "2024-03-05T02:15:39.807468Z"
    }
   },
   "outputs": [
    {
     "name": "stdout",
     "output_type": "stream",
     "text": [
      "사과\n",
      "귤\n",
      "수박\n"
     ]
    }
   ],
   "source": [
    "과일 = [\"사과\", \"귤\", \"수박\"]\n",
    "for 변수 in 과일:\n",
    "    print(변수)\n"
   ]
  },
  {
   "cell_type": "markdown",
   "id": "239bf1a9",
   "metadata": {},
   "source": [
    "변수를 위해 과일리스트에서 하나씩 뽑는거지"
   ]
  },
  {
   "cell_type": "code",
   "execution_count": 99,
   "id": "bd669b1f",
   "metadata": {
    "ExecuteTime": {
     "end_time": "2024-03-05T02:24:52.691328Z",
     "start_time": "2024-03-05T02:24:52.686837Z"
    }
   },
   "outputs": [
    {
     "name": "stdout",
     "output_type": "stream",
     "text": [
      "#비밀입니당#\n",
      "#비밀입니당#\n",
      "#비밀입니당#\n"
     ]
    }
   ],
   "source": [
    "과일 = [\"사과\", \"귤\", \"수박\"]\n",
    "for 변수 in 과일:\n",
    "    print(\"#비밀입니당#\")"
   ]
  },
  {
   "cell_type": "code",
   "execution_count": 97,
   "id": "203cb47c",
   "metadata": {
    "ExecuteTime": {
     "end_time": "2024-03-05T02:21:17.339737Z",
     "start_time": "2024-03-05T02:21:17.335255Z"
    }
   },
   "outputs": [
    {
     "name": "stdout",
     "output_type": "stream",
     "text": [
      "3\n",
      "7\n",
      "11\n"
     ]
    }
   ],
   "source": [
    "a = [(1,2), (3,4), (5,6)]\n",
    "for (first, last) in a:\n",
    "    print(first + last)\n",
    "\n",
    "    #for 문은 print 가 들여쓰기를 해야해"
   ]
  },
  {
   "cell_type": "code",
   "execution_count": 100,
   "id": "04d2e340",
   "metadata": {
    "ExecuteTime": {
     "end_time": "2024-03-05T02:25:26.174592Z",
     "start_time": "2024-03-05T02:25:26.170674Z"
    }
   },
   "outputs": [
    {
     "name": "stdout",
     "output_type": "stream",
     "text": [
      "A\n",
      "B\n",
      "C\n"
     ]
    }
   ],
   "source": [
    "for 변수 in [\"A\", \"B\", \"C\"]:\n",
    "    print(변수)"
   ]
  },
  {
   "cell_type": "code",
   "execution_count": 101,
   "id": "f745bbca",
   "metadata": {
    "ExecuteTime": {
     "end_time": "2024-03-05T02:25:49.139639Z",
     "start_time": "2024-03-05T02:25:49.134134Z"
    }
   },
   "outputs": [
    {
     "name": "stdout",
     "output_type": "stream",
     "text": [
      "출력: A\n",
      "출력: B\n",
      "출력: C\n"
     ]
    }
   ],
   "source": [
    "for 변수 in [\"A\", \"B\", \"C\"]:\n",
    "      print(\"출력:\", 변수)"
   ]
  },
  {
   "cell_type": "code",
   "execution_count": 102,
   "id": "881547da",
   "metadata": {
    "ExecuteTime": {
     "end_time": "2024-03-05T02:26:02.404423Z",
     "start_time": "2024-03-05T02:26:02.398080Z"
    }
   },
   "outputs": [
    {
     "name": "stdout",
     "output_type": "stream",
     "text": [
      "출력: A\n",
      "출력: B\n",
      "출력: C\n"
     ]
    }
   ],
   "source": [
    "#134 이렇게 중복적으로 쓰는 것을 대신 하는 게 위에 for 문인거야\n",
    "print(\"출력:\", \"A\")\n",
    "print(\"출력:\", \"B\")\n",
    "print(\"출력:\", \"C\")"
   ]
  },
  {
   "cell_type": "code",
   "execution_count": 108,
   "id": "defdeaa8",
   "metadata": {
    "ExecuteTime": {
     "end_time": "2024-03-05T02:37:24.477112Z",
     "start_time": "2024-03-05T02:37:24.472809Z"
    },
    "scrolled": true
   },
   "outputs": [
    {
     "name": "stdout",
     "output_type": "stream",
     "text": [
      "10\n",
      "20\n",
      "30\n"
     ]
    }
   ],
   "source": [
    "for 변수 in [10, 20, 30]:\n",
    "    print(변수)"
   ]
  },
  {
   "cell_type": "code",
   "execution_count": 109,
   "id": "ad7166c5",
   "metadata": {
    "ExecuteTime": {
     "end_time": "2024-03-05T02:38:00.090837Z",
     "start_time": "2024-03-05T02:38:00.084857Z"
    },
    "scrolled": false
   },
   "outputs": [
    {
     "ename": "SyntaxError",
     "evalue": "invalid syntax (35746309.py, line 1)",
     "output_type": "error",
     "traceback": [
      "\u001b[1;36m  Cell \u001b[1;32mIn[109], line 1\u001b[1;36m\u001b[0m\n\u001b[1;33m    for a\u001b[0m\n\u001b[1;37m          ^\u001b[0m\n\u001b[1;31mSyntaxError\u001b[0m\u001b[1;31m:\u001b[0m invalid syntax\n"
     ]
    }
   ],
   "source": [
    "for a "
   ]
  },
  {
   "cell_type": "code",
   "execution_count": 112,
   "id": "d3c9f8f5",
   "metadata": {
    "ExecuteTime": {
     "end_time": "2024-03-05T02:41:37.181353Z",
     "start_time": "2024-03-05T02:41:37.175061Z"
    }
   },
   "outputs": [
    {
     "name": "stdout",
     "output_type": "stream",
     "text": [
      "1번 학생은 합격입니다.\n",
      "2번 학생은 불합격입니다.\n",
      "3번 학생은 합격입니다.\n",
      "4번 학생은 불합격입니다.\n",
      "5번 학생은 합격입니다.\n"
     ]
    }
   ],
   "source": [
    "#총 5명의 학생이 시험을 보았는데 시험 점수가 60점 이상이면 합격이고 그렇지 않으면 불합격이다. \n",
    "#합격인지, 불합격인지 결과를 보여 주시오.\n",
    "\n",
    "\n",
    "\n",
    "marks = [90, 25, 67, 45, 80]\n",
    "\n",
    "number = 0   # 학생에게 붙여 줄 번호\n",
    "for mark in marks:   # 90, 25, 67, 45, 80을 순서대로 mark에 대입\n",
    "    number = number +1 \n",
    "    if mark >= 60: \n",
    "        print(\"%d번 학생은 합격입니다.\" % number)\n",
    "    else: \n",
    "        print(\"%d번 학생은 불합격입니다.\" % number)\n",
    "\n"
   ]
  },
  {
   "cell_type": "code",
   "execution_count": 113,
   "id": "a09772fa",
   "metadata": {
    "ExecuteTime": {
     "end_time": "2024-03-05T02:42:24.177638Z",
     "start_time": "2024-03-05T02:42:24.173653Z"
    }
   },
   "outputs": [
    {
     "name": "stdout",
     "output_type": "stream",
     "text": [
      "1번 학생 축하합니다. 합격입니다. \n",
      "3번 학생 축하합니다. 합격입니다. \n",
      "5번 학생 축하합니다. 합격입니다. \n"
     ]
    }
   ],
   "source": [
    "\n",
    "number = 0 \n",
    "for mark in marks: \n",
    "    number = number +1 \n",
    "    if mark < 60:\n",
    "        continue \n",
    "    print(\"%d번 학생 축하합니다. 합격입니다. \" % number)\n"
   ]
  },
  {
   "cell_type": "code",
   "execution_count": 115,
   "id": "7433c6a8",
   "metadata": {
    "ExecuteTime": {
     "end_time": "2024-03-05T02:43:05.636990Z",
     "start_time": "2024-03-05T02:43:05.625184Z"
    }
   },
   "outputs": [
    {
     "data": {
      "text/plain": [
       "range(0, 10)"
      ]
     },
     "execution_count": 115,
     "metadata": {},
     "output_type": "execute_result"
    }
   ],
   "source": [
    "a = range(10)\n",
    "a"
   ]
  },
  {
   "cell_type": "markdown",
   "id": "54e3992d",
   "metadata": {},
   "source": [
    "for 문과 함께 자주 사용하는 range 함수\n",
    "for 문은 숫자 리스트를 자동으로 만들어 주는 range 함수와 함께 사용하는 경우가 많다. 다음은 range 함수의 간단한 사용법이다."
   ]
  },
  {
   "cell_type": "code",
   "execution_count": 120,
   "id": "f44ff3cf",
   "metadata": {
    "ExecuteTime": {
     "end_time": "2024-03-05T02:44:47.441698Z",
     "start_time": "2024-03-05T02:44:47.437645Z"
    }
   },
   "outputs": [
    {
     "name": "stdout",
     "output_type": "stream",
     "text": [
      "55\n"
     ]
    }
   ],
   "source": [
    "add = 0\n",
    "for i in range(1,11):\n",
    "    add = add+ i\n",
    "print(add)"
   ]
  },
  {
   "cell_type": "code",
   "execution_count": 123,
   "id": "c2c6506e",
   "metadata": {
    "ExecuteTime": {
     "end_time": "2024-03-05T02:46:34.230476Z",
     "start_time": "2024-03-05T02:46:34.225990Z"
    },
    "scrolled": true
   },
   "outputs": [
    {
     "name": "stdout",
     "output_type": "stream",
     "text": [
      "1\n",
      "3\n",
      "6\n",
      "10\n",
      "15\n",
      "21\n",
      "28\n",
      "36\n",
      "45\n",
      "55\n"
     ]
    }
   ],
   "source": [
    "add = 0\n",
    "for i in range(1,11):\n",
    "    add = add+ i\n",
    "    print(add)"
   ]
  },
  {
   "cell_type": "code",
   "execution_count": 139,
   "id": "1a7ebf56",
   "metadata": {
    "ExecuteTime": {
     "end_time": "2024-03-05T03:35:51.239831Z",
     "start_time": "2024-03-05T03:35:51.234547Z"
    }
   },
   "outputs": [
    {
     "name": "stdout",
     "output_type": "stream",
     "text": [
      "1번 학생 축하합니다. 합격입니다.\n",
      "3번 학생 축하합니다. 합격입니다.\n",
      "5번 학생 축하합니다. 합격입니다.\n"
     ]
    }
   ],
   "source": [
    "# 프린트 위치에 따른 출력값이 다름\n",
    "#다음 for 루프는 제대로 작동함\n",
    "marks = [90, 25, 67, 45, 80]\n",
    "for number in range(len(marks)):\n",
    "    if marks[number] < 60: \n",
    "        continue\n",
    "        \n",
    "\n",
    "    print(\"%d번 학생 축하합니다. 합격입니다.\" % (number+1))\n",
    "    \n",
    "\n"
   ]
  },
  {
   "cell_type": "code",
   "execution_count": 143,
   "id": "14342aac",
   "metadata": {
    "ExecuteTime": {
     "end_time": "2024-03-05T03:42:28.131781Z",
     "start_time": "2024-03-05T03:42:28.126601Z"
    }
   },
   "outputs": [
    {
     "name": "stdout",
     "output_type": "stream",
     "text": [
      "5번 학생 축하합니다. 합격입니다.\n"
     ]
    }
   ],
   "source": [
    "#다음 for 루프는 print 의 명령이 따로 있지 않기 때문에\n",
    "# 어떤 대답을 해줘야할 지 모름. for 에서 맞는 값을 찾을 수 없어 마지막 값 들고 나온 것?????\n",
    "\n",
    "\n",
    "marks = [90, 25, 67, 45, 80]\n",
    "for number in range(len(marks)):\n",
    "    if marks[number] < 60: \n",
    "        continue\n",
    "        \n",
    "\n",
    "print(\"%d번 학생 축하합니다. 합격입니다.\" % (number+1))    \n",
    "\n",
    "# 결과에 오해를 일으킬 수 있는 부분 일 것 같다. 조심해야함.. "
   ]
  },
  {
   "cell_type": "code",
   "execution_count": 145,
   "id": "2da531d1",
   "metadata": {
    "ExecuteTime": {
     "end_time": "2024-03-05T03:45:03.296315Z",
     "start_time": "2024-03-05T03:45:03.292297Z"
    },
    "scrolled": true
   },
   "outputs": [
    {
     "name": "stdout",
     "output_type": "stream",
     "text": [
      "10\n",
      "---\n",
      "20\n",
      "---\n",
      "30\n",
      "---\n"
     ]
    }
   ],
   "source": [
    "for 변수 in [10,20,30]:\n",
    "    print(변수)\n",
    "    print(\"---\")"
   ]
  },
  {
   "cell_type": "code",
   "execution_count": 149,
   "id": "7bb644dd",
   "metadata": {
    "ExecuteTime": {
     "end_time": "2024-03-05T03:47:44.472858Z",
     "start_time": "2024-03-05T03:47:44.468984Z"
    },
    "scrolled": true
   },
   "outputs": [
    {
     "name": "stdout",
     "output_type": "stream",
     "text": [
      "+++\n",
      "10\n",
      "20\n",
      "30\n"
     ]
    }
   ],
   "source": [
    "print(\"+++\")\n",
    "for 변수 in [10,20,30]:\n",
    "    print(변수)"
   ]
  },
  {
   "cell_type": "code",
   "execution_count": 158,
   "id": "8e834149",
   "metadata": {
    "ExecuteTime": {
     "end_time": "2024-03-05T03:58:34.662715Z",
     "start_time": "2024-03-05T03:58:34.659329Z"
    }
   },
   "outputs": [
    {
     "name": "stdout",
     "output_type": "stream",
     "text": [
      "-------\n",
      "-------\n",
      "-------\n",
      "-------\n"
     ]
    }
   ],
   "source": [
    "for 변수 in [\"가\", \"나\", \"다\", \"라\"]:\n",
    "      print(\"-------\")"
   ]
  },
  {
   "cell_type": "code",
   "execution_count": 160,
   "id": "33a42015",
   "metadata": {
    "ExecuteTime": {
     "end_time": "2024-03-05T04:07:56.303301Z",
     "start_time": "2024-03-05T04:07:56.299808Z"
    },
    "scrolled": true
   },
   "outputs": [
    {
     "name": "stdout",
     "output_type": "stream",
     "text": [
      "110\n",
      "210\n",
      "310\n"
     ]
    }
   ],
   "source": [
    "리스트 = [100,200,300]\n",
    "\n",
    "for 변수 in 리스트:\n",
    "    print(변수 + 10)"
   ]
  },
  {
   "cell_type": "code",
   "execution_count": 165,
   "id": "1232a94f",
   "metadata": {
    "ExecuteTime": {
     "end_time": "2024-03-05T04:13:11.479411Z",
     "start_time": "2024-03-05T04:13:11.475346Z"
    }
   },
   "outputs": [
    {
     "name": "stdout",
     "output_type": "stream",
     "text": [
      "오늘의 메뉴: 김밥\n",
      "오늘의 메뉴: 라면\n",
      "오늘의 메뉴: 튀김\n"
     ]
    }
   ],
   "source": [
    "리스트 = [\"김밥\",\"라면\",\"튀김\"]\n",
    "\n",
    "for 메뉴 in 리스트:\n",
    "    print(\"오늘의 메뉴: \"+ 메뉴)"
   ]
  },
  {
   "cell_type": "code",
   "execution_count": 166,
   "id": "a5fc5056",
   "metadata": {
    "ExecuteTime": {
     "end_time": "2024-03-05T04:14:47.978006Z",
     "start_time": "2024-03-05T04:14:47.974128Z"
    }
   },
   "outputs": [
    {
     "name": "stdout",
     "output_type": "stream",
     "text": [
      "오늘의 메뉴: 김밥\n",
      "오늘의 메뉴: 라면\n",
      "오늘의 메뉴: 튀김\n"
     ]
    }
   ],
   "source": [
    "리스트 = [\"김밥\", \"라면\", \"튀김\"]\n",
    "for 메뉴 in 리스트:\n",
    "      print(\"오늘의 메뉴:\", 메뉴)\n"
   ]
  },
  {
   "cell_type": "code",
   "execution_count": 169,
   "id": "518ab5f4",
   "metadata": {
    "ExecuteTime": {
     "end_time": "2024-03-05T04:19:02.278783Z",
     "start_time": "2024-03-05T04:19:02.274233Z"
    }
   },
   "outputs": [
    {
     "name": "stdout",
     "output_type": "stream",
     "text": [
      "6\n",
      "4\n",
      "4\n"
     ]
    }
   ],
   "source": [
    "리스트 = [\"SK하이닉스\", \"삼성전자\", \"LG전자\"]\n",
    "for 종목명 in 리스트:\n",
    "    길이 = len(종목명)\n",
    "    print(길이)"
   ]
  },
  {
   "cell_type": "code",
   "execution_count": 178,
   "id": "f020ad30",
   "metadata": {
    "ExecuteTime": {
     "end_time": "2024-03-05T04:24:55.194145Z",
     "start_time": "2024-03-05T04:24:55.189438Z"
    }
   },
   "outputs": [
    {
     "name": "stdout",
     "output_type": "stream",
     "text": [
      "dog : 3\n",
      "cat : 3\n",
      "parrot : 6\n"
     ]
    }
   ],
   "source": [
    "리스트 = ['dog', 'cat', 'parrot']\n",
    "for 동물이름 in 리스트:\n",
    "    길이 = len(동물이름)\n",
    "    print(동물이름,\":\",길이)"
   ]
  },
  {
   "cell_type": "code",
   "execution_count": 180,
   "id": "4476197c",
   "metadata": {
    "ExecuteTime": {
     "end_time": "2024-03-05T04:25:25.194701Z",
     "start_time": "2024-03-05T04:25:25.189467Z"
    }
   },
   "outputs": [
    {
     "name": "stdout",
     "output_type": "stream",
     "text": [
      "d\n",
      "c\n",
      "p\n"
     ]
    }
   ],
   "source": [
    "리스트 = ['dog', 'cat', 'parrot']\n",
    "for 대문자 in 리스트:\n",
    "    print(대문자[0])\n",
    "    "
   ]
  },
  {
   "cell_type": "code",
   "execution_count": 188,
   "id": "6112e703",
   "metadata": {
    "ExecuteTime": {
     "end_time": "2024-03-05T04:47:23.670303Z",
     "start_time": "2024-03-05T04:47:23.665765Z"
    }
   },
   "outputs": [
    {
     "name": "stdout",
     "output_type": "stream",
     "text": [
      "3 x 1 = 3\n",
      "3 x 2 = 6\n",
      "3 x 3 = 9\n"
     ]
    }
   ],
   "source": [
    "리스트 = [1,2,3]\n",
    "for 변수 in 리스트:\n",
    "    print(\"3 x\", 변수 ,\"=\", 3 * 변수) "
   ]
  },
  {
   "cell_type": "code",
   "execution_count": 194,
   "id": "4e660eec",
   "metadata": {
    "ExecuteTime": {
     "end_time": "2024-03-05T05:00:20.136017Z",
     "start_time": "2024-03-05T05:00:20.131062Z"
    }
   },
   "outputs": [
    {
     "name": "stdout",
     "output_type": "stream",
     "text": [
      "3 X 1 = 3\n",
      "3 X 2 = 6\n",
      "3 X 3 = 9\n"
     ]
    }
   ],
   "source": [
    "리스트 = [1,2,3]\n",
    "for 변수 in 리스트:\n",
    "    print (\"3 X {} = {}\".format(변수, 3*변수))"
   ]
  },
  {
   "cell_type": "code",
   "execution_count": 202,
   "id": "064d56c3",
   "metadata": {
    "ExecuteTime": {
     "end_time": "2024-03-05T05:09:01.191066Z",
     "start_time": "2024-03-05T05:09:01.185528Z"
    }
   },
   "outputs": [
    {
     "name": "stdout",
     "output_type": "stream",
     "text": [
      "가\n",
      "다\n"
     ]
    }
   ],
   "source": [
    "# 149 \n",
    "#아직 잘 이해가 안 가\n",
    "#\n",
    "\n",
    "list = [\"가\", \"나\", \"다\", \"라\"]\n",
    "for i in list[: :2]:\n",
    "    print(i)\n",
    "    \n"
   ]
  },
  {
   "cell_type": "code",
   "execution_count": 204,
   "id": "7a27ef76",
   "metadata": {
    "ExecuteTime": {
     "end_time": "2024-03-05T05:18:53.958007Z",
     "start_time": "2024-03-05T05:18:53.953383Z"
    }
   },
   "outputs": [
    {
     "name": "stdout",
     "output_type": "stream",
     "text": [
      "라\n",
      "다\n",
      "나\n",
      "가\n"
     ]
    }
   ],
   "source": [
    "#150\n",
    "#아직 잘 이해가 안 가\n",
    "리스트 = [\"가\", \"나\", \"다\", \"라\"]\n",
    "리스트 = [\"가\", \"나\", \"다\", \"라\"]\n",
    "for 변수 in 리스트[: :-1]:\n",
    "    print(변수)\n"
   ]
  },
  {
   "cell_type": "code",
   "execution_count": null,
   "id": "36302546",
   "metadata": {},
   "outputs": [],
   "source": []
  },
  {
   "cell_type": "code",
   "execution_count": null,
   "id": "1f820496",
   "metadata": {},
   "outputs": [],
   "source": []
  }
 ],
 "metadata": {
  "kernelspec": {
   "display_name": "Python 3 (ipykernel)",
   "language": "python",
   "name": "python3"
  },
  "language_info": {
   "codemirror_mode": {
    "name": "ipython",
    "version": 3
   },
   "file_extension": ".py",
   "mimetype": "text/x-python",
   "name": "python",
   "nbconvert_exporter": "python",
   "pygments_lexer": "ipython3",
   "version": "3.11.5"
  }
 },
 "nbformat": 4,
 "nbformat_minor": 5
}

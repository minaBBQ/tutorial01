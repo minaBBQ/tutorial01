{
 "cells": [
  {
   "cell_type": "markdown",
   "id": "f841baba",
   "metadata": {},
   "source": [
    "## 18~20"
   ]
  },
  {
   "cell_type": "code",
   "execution_count": 1,
   "id": "885364af",
   "metadata": {
    "ExecuteTime": {
     "end_time": "2024-03-02T08:37:27.750935Z",
     "start_time": "2024-03-02T08:37:27.744184Z"
    }
   },
   "outputs": [
    {
     "name": "stdout",
     "output_type": "stream",
     "text": [
      "15.79 <class 'float'>\n"
     ]
    }
   ],
   "source": [
    "num_str = \"15.79\"\n",
    "num_str = float(num_str)\n",
    "print(num_str, type(num_str));"
   ]
  },
  {
   "cell_type": "code",
   "execution_count": 6,
   "id": "33a94db2",
   "metadata": {
    "ExecuteTime": {
     "end_time": "2024-03-02T09:06:38.266811Z",
     "start_time": "2024-03-02T09:06:38.261744Z"
    }
   },
   "outputs": [
    {
     "name": "stdout",
     "output_type": "stream",
     "text": [
      "2017\n",
      "2018\n",
      "2023\n"
     ]
    }
   ],
   "source": [
    "year = \"2020\"\n",
    "print (int(year)-3)  #문자인 숫자는 반드시 정수형으로 변경해야\n",
    "print (int(year)-2)\n",
    "print (int(year)+3)"
   ]
  },
  {
   "cell_type": "code",
   "execution_count": 7,
   "id": "828e7a09",
   "metadata": {
    "ExecuteTime": {
     "end_time": "2024-03-02T09:25:53.785361Z",
     "start_time": "2024-03-02T09:25:53.779882Z"
    }
   },
   "outputs": [
    {
     "name": "stdout",
     "output_type": "stream",
     "text": [
      "1749024\n"
     ]
    }
   ],
   "source": [
    "#에이컨이 월 48,584원에 무이자 36개월의 조건으로 홈쇼핑에서 판매되고 있습니다. \n",
    "#총 금액은 계산한 후 이를 화면에 출력해보세요. (변수사용하기)\n",
    "\n",
    "월 = 48584\n",
    "총금액 = 월 * 36\n",
    "print(총금액)"
   ]
  },
  {
   "cell_type": "markdown",
   "id": "137d6426",
   "metadata": {},
   "source": [
    "## 21~30"
   ]
  },
  {
   "cell_type": "code",
   "execution_count": 8,
   "id": "d23b4aac",
   "metadata": {
    "ExecuteTime": {
     "end_time": "2024-03-02T09:28:38.635833Z",
     "start_time": "2024-03-02T09:28:38.630432Z"
    }
   },
   "outputs": [
    {
     "name": "stdout",
     "output_type": "stream",
     "text": [
      "p\n",
      "t\n"
     ]
    }
   ],
   "source": [
    "#letters가 바인딩하는 문자열에서 첫번째와 세번째 문자를 출력하세요\n",
    "letters = 'python'\n",
    "print(letters[0]) #문자 주소 첫번째는 0\n",
    "print(letters[2])"
   ]
  },
  {
   "cell_type": "code",
   "execution_count": 14,
   "id": "33364b82",
   "metadata": {
    "ExecuteTime": {
     "end_time": "2024-03-02T09:32:21.946944Z",
     "start_time": "2024-03-02T09:32:21.942025Z"
    }
   },
   "outputs": [
    {
     "name": "stdout",
     "output_type": "stream",
     "text": [
      "2210\n",
      "2210\n",
      "2210\n"
     ]
    }
   ],
   "source": [
    "#자동차 번호가 다음과 같을 때 뒤에 4자리만 출력하세요.\n",
    "license_plate = \"24가 2210\"\n",
    "print(license_plate[4:8])\n",
    "print(license_plate[4:])\n",
    "print(license_plate[-4:])"
   ]
  },
  {
   "cell_type": "code",
   "execution_count": 65,
   "id": "45428571",
   "metadata": {
    "ExecuteTime": {
     "end_time": "2024-03-02T10:16:23.822331Z",
     "start_time": "2024-03-02T10:16:23.817898Z"
    }
   },
   "outputs": [
    {
     "name": "stdout",
     "output_type": "stream",
     "text": [
      "무대를 뒤집어 놓았네\n"
     ]
    }
   ],
   "source": [
    "#아래의 문자열에서 '무대를 뒤집어 놓았네' 출력하세요.\n",
    "\n",
    "string = \"무뒤놓대집았를어네\"\n",
    "print(string[0:9:3],end=' ')\n",
    "print(string[1:9:3],end=' ')\n",
    "print(string[2:9:3])"
   ]
  },
  {
   "cell_type": "code",
   "execution_count": 40,
   "id": "59278903",
   "metadata": {
    "ExecuteTime": {
     "end_time": "2024-03-02T09:48:47.564621Z",
     "start_time": "2024-03-02T09:48:47.560186Z"
    }
   },
   "outputs": [
    {
     "name": "stdout",
     "output_type": "stream",
     "text": [
      "NOHTYP\n"
     ]
    }
   ],
   "source": [
    "# 거꾸로 뒤집어 출력하세요.\n",
    "\n",
    "string = \"PYTHON\"\n",
    "print(string[::-1])"
   ]
  },
  {
   "cell_type": "code",
   "execution_count": 63,
   "id": "dc805eb9",
   "metadata": {
    "ExecuteTime": {
     "end_time": "2024-03-02T10:16:16.110391Z",
     "start_time": "2024-03-02T10:16:16.105460Z"
    },
    "scrolled": true
   },
   "outputs": [
    {
     "name": "stdout",
     "output_type": "stream",
     "text": [
      "010 1111 2222\n",
      "010*1111*2222\n"
     ]
    }
   ],
   "source": [
    "#아래의 전화번호에서 하이픈 ('-')을 제거하고 출력하세요.\n",
    "#문자열은 절대 변경 불가능 (불변형)\n",
    "phone_number = \"010-1111-2222\"\n",
    "a = phone_number.replace('-',' ')\n",
    "b = phone_number.replace('-','*')\n",
    "print(a), print(b);"
   ]
  },
  {
   "cell_type": "code",
   "execution_count": 64,
   "id": "349345dd",
   "metadata": {
    "ExecuteTime": {
     "end_time": "2024-03-02T10:16:20.372390Z",
     "start_time": "2024-03-02T10:16:20.368190Z"
    }
   },
   "outputs": [
    {
     "name": "stdout",
     "output_type": "stream",
     "text": [
      "Hello Python\n"
     ]
    }
   ],
   "source": [
    "name = 'Hello World'\n",
    "new_name = name.replace('World', 'Python')\n",
    "print(new_name);"
   ]
  },
  {
   "cell_type": "code",
   "execution_count": 71,
   "id": "4b82b929",
   "metadata": {
    "ExecuteTime": {
     "end_time": "2024-03-02T10:19:23.524192Z",
     "start_time": "2024-03-02T10:19:23.518963Z"
    }
   },
   "outputs": [
    {
     "name": "stdout",
     "output_type": "stream",
     "text": [
      "kr\n",
      "kr\n"
     ]
    }
   ],
   "source": [
    "#url 에 저장된 웹 페이지 주소에서 도메인을 출력하세요.\n",
    "#뒤에서 두번째까지만 출력\n",
    "url = \"http://sharebook.kr\"\n",
    "print(url[-2:])\n",
    "\n",
    "# 스플릿으로 자른 다음에 1번 문자주소 덩어리만 가져오기\n",
    "a = url.split(\".\")\n",
    "print(a[1])\n",
    "\n"
   ]
  },
  {
   "cell_type": "code",
   "execution_count": 83,
   "id": "001d67d7",
   "metadata": {
    "ExecuteTime": {
     "end_time": "2024-03-02T10:22:23.499576Z",
     "start_time": "2024-03-02T10:22:23.496216Z"
    }
   },
   "outputs": [
    {
     "name": "stdout",
     "output_type": "stream",
     "text": [
      "on\n"
     ]
    }
   ],
   "source": [
    "string = 'Python'\n",
    "print(string[-2:])"
   ]
  },
  {
   "cell_type": "markdown",
   "id": "daeea567",
   "metadata": {},
   "source": [
    "### immutable"
   ]
  },
  {
   "cell_type": "code",
   "execution_count": 84,
   "id": "94cc07b7",
   "metadata": {
    "ExecuteTime": {
     "end_time": "2024-03-02T10:28:09.065609Z",
     "start_time": "2024-03-02T10:28:09.046813Z"
    }
   },
   "outputs": [
    {
     "ename": "TypeError",
     "evalue": "'str' object does not support item assignment",
     "output_type": "error",
     "traceback": [
      "\u001b[1;31m---------------------------------------------------------------------------\u001b[0m",
      "\u001b[1;31mTypeError\u001b[0m                                 Traceback (most recent call last)",
      "Cell \u001b[1;32mIn[84], line 4\u001b[0m\n\u001b[0;32m      1\u001b[0m \u001b[38;5;66;03m#아래 코드의 실행 결과를 예상해보세요.\u001b[39;00m\n\u001b[0;32m      3\u001b[0m lang \u001b[38;5;241m=\u001b[39m \u001b[38;5;124m'\u001b[39m\u001b[38;5;124mpython\u001b[39m\u001b[38;5;124m'\u001b[39m\n\u001b[1;32m----> 4\u001b[0m lang[\u001b[38;5;241m0\u001b[39m] \u001b[38;5;241m=\u001b[39m \u001b[38;5;124m'\u001b[39m\u001b[38;5;124mP\u001b[39m\u001b[38;5;124m'\u001b[39m\n\u001b[0;32m      5\u001b[0m \u001b[38;5;28mprint\u001b[39m(lang)\n",
      "\u001b[1;31mTypeError\u001b[0m: 'str' object does not support item assignment"
     ]
    }
   ],
   "source": [
    "#아래 코드의 실행 결과를 예상해보세요.\n",
    "#한번 만들어지면 변경될 수 없어서 에러가 무조건 난다. 고칠 수 없다잇\n",
    "lang = 'python'\n",
    "lang[0] = 'P'\n",
    "print(lang)"
   ]
  },
  {
   "cell_type": "code",
   "execution_count": 94,
   "id": "4912c275",
   "metadata": {
    "ExecuteTime": {
     "end_time": "2024-03-02T10:59:06.914231Z",
     "start_time": "2024-03-02T10:59:06.909753Z"
    }
   },
   "outputs": [
    {
     "name": "stdout",
     "output_type": "stream",
     "text": [
      "Abcdfe2A354A32A\n"
     ]
    }
   ],
   "source": [
    "#아래 문자열에서 소문자 'a'를 대문자 'A'로 변경하세요.\n",
    "\n",
    "string = 'abcdfe2a354a32a'\n",
    "\n",
    "string = string.replace('a','A')\n",
    "print(string)"
   ]
  },
  {
   "cell_type": "code",
   "execution_count": 98,
   "id": "d0914ee3",
   "metadata": {
    "ExecuteTime": {
     "end_time": "2024-03-02T10:59:41.550793Z",
     "start_time": "2024-03-02T10:59:41.546484Z"
    },
    "scrolled": true
   },
   "outputs": [
    {
     "name": "stdout",
     "output_type": "stream",
     "text": [
      "abcd\n"
     ]
    }
   ],
   "source": [
    "string = 'abcd'    # =는 바인딩으로 이름과 값을 이어준다고 생각하면 쉬워   \n",
    "string.replace('b','B') #여기는 그냥 데이터 상에서만 리플레이스된거지\n",
    "print(string)"
   ]
  },
  {
   "cell_type": "code",
   "execution_count": 96,
   "id": "916e343d",
   "metadata": {
    "ExecuteTime": {
     "end_time": "2024-03-02T10:59:34.375157Z",
     "start_time": "2024-03-02T10:59:34.371664Z"
    }
   },
   "outputs": [
    {
     "name": "stdout",
     "output_type": "stream",
     "text": [
      "aBcd\n"
     ]
    }
   ],
   "source": [
    "string = 'abcd'\n",
    "string = string.replace('b','B') #이렇게 바인딩으로 이어주어야 프린트가 되는거야\n",
    "print(string)"
   ]
  },
  {
   "cell_type": "markdown",
   "id": "ebb9fa06",
   "metadata": {},
   "source": [
    "<궁금> 한 번 만들어지면 변경될 수 없다고 했는데, 어떻게 다시 abcd로 값을 매기고 반환이 성공하지? <br> <br>\n",
    "<답변> replace는 수정이 아니라 싹 다 지우고 다시 넣는거야. 그리고 아래에 다시 바인딩하는 것도 같은 작업이지. 그런데 여기서 말하는 immutalbe이라는건 하나만 지우고 수정할 수 없다는거야. 수정테이프로 지우는건 안되는데 종이를 갈아서 그 위에 쓰는 건 가능한거지. \n"
   ]
  },
  {
   "cell_type": "markdown",
   "id": "069035a2",
   "metadata": {},
   "source": [
    "### 31~40"
   ]
  },
  {
   "cell_type": "code",
   "execution_count": 99,
   "id": "2f82af67",
   "metadata": {
    "ExecuteTime": {
     "end_time": "2024-03-02T11:04:34.704506Z",
     "start_time": "2024-03-02T11:04:34.700149Z"
    }
   },
   "outputs": [
    {
     "name": "stdout",
     "output_type": "stream",
     "text": [
      "34\n"
     ]
    }
   ],
   "source": [
    "#아래 코드의 실행 결과를 예상해보세요.\n",
    "#문자와 문자가 합쳐진 것\n",
    "\n",
    "a = \"3\"\n",
    "b = \"4\"\n",
    "print(a + b) "
   ]
  },
  {
   "cell_type": "code",
   "execution_count": 102,
   "id": "4a671c75",
   "metadata": {
    "ExecuteTime": {
     "end_time": "2024-03-02T11:06:03.603805Z",
     "start_time": "2024-03-02T11:06:03.599926Z"
    }
   },
   "outputs": [
    {
     "name": "stdout",
     "output_type": "stream",
     "text": [
      "HiHiHiHiHiHiHiHiHiHiHiHiHiHiHiHiHiHiHiHiHiHiHiHiHiHiHiHiHiHi\n"
     ]
    }
   ],
   "source": [
    "#아래 코드의 실행 결과를 예상해보세요.\n",
    "\n",
    "print(\"Hi\" * 30)"
   ]
  },
  {
   "cell_type": "code",
   "execution_count": 101,
   "id": "595d3ae4",
   "metadata": {
    "ExecuteTime": {
     "end_time": "2024-03-02T11:05:55.312984Z",
     "start_time": "2024-03-02T11:05:55.309135Z"
    }
   },
   "outputs": [
    {
     "name": "stdout",
     "output_type": "stream",
     "text": [
      "--------------------------------------------------------------------------------\n"
     ]
    }
   ],
   "source": [
    "# - 80개 출력\n",
    "print('-' * 80)"
   ]
  },
  {
   "cell_type": "code",
   "execution_count": 107,
   "id": "ae8fde5f",
   "metadata": {
    "ExecuteTime": {
     "end_time": "2024-03-02T11:11:50.893186Z",
     "start_time": "2024-03-02T11:11:50.887407Z"
    }
   },
   "outputs": [
    {
     "name": "stdout",
     "output_type": "stream",
     "text": [
      "python java python java python java python java \n"
     ]
    }
   ],
   "source": [
    "#t1, t2 변수에 다음과 같은 문자열이 바인딩되어 있습니다.\n",
    "\n",
    "t1 = 'python'\n",
    "t2 = 'java'\n",
    "\n",
    "#변수에 문자열 더하기와 문자열 곱하기를 사용해서 아래와 같이 출력해보세요.\n",
    "#python java python java python java python java\n",
    "sum = t1+' '+t2+' '\n",
    "print(sum*4)"
   ]
  },
  {
   "cell_type": "code",
   "execution_count": 125,
   "id": "6f3de5a5",
   "metadata": {
    "ExecuteTime": {
     "end_time": "2024-03-02T11:29:25.709002Z",
     "start_time": "2024-03-02T11:29:25.703636Z"
    }
   },
   "outputs": [
    {
     "name": "stdout",
     "output_type": "stream",
     "text": [
      "이름: 김민수 나이: 10\n",
      "이름: 이철희 나이: 13\n",
      "이름: 김민수 나이: 10\n",
      "이름: 이철희 나이: 13\n"
     ]
    }
   ],
   "source": [
    "# 변수에 다음과 같이 문자열과 정수가 바인딩되어 있을 때 \n",
    "# % formatting을 사용해서 다음과 같이 출력해보세요.\n",
    "\n",
    "name1 = \"김민수\" \n",
    "age1 = 10\n",
    "name2 = \"이철희\"\n",
    "age2 = 13\n",
    "\n",
    "# 내가 한 거\n",
    "print('이름:',name1,'나이:',age1)\n",
    "print('이름:',name2,'나이:',age2)\n",
    "\n",
    "# `%s`는 문자열 데이터 타입의 값을 `%d`는 정수형 데이터 타입 값의 출력을 의미\n",
    "print('이름: %s 나이: %d' % (name1, age1))\n",
    "print('이름: %s 나이: %d' % (name2, age2))\n"
   ]
  },
  {
   "cell_type": "code",
   "execution_count": 124,
   "id": "5df98245",
   "metadata": {
    "ExecuteTime": {
     "end_time": "2024-03-02T11:29:24.283424Z",
     "start_time": "2024-03-02T11:29:24.278759Z"
    }
   },
   "outputs": [
    {
     "name": "stdout",
     "output_type": "stream",
     "text": [
      "이름: 김민수 나이: 10\n",
      "이름: 이철희 나이: 13\n"
     ]
    }
   ],
   "source": [
    "#문자열의 format( ) 메서드를 사용\n",
    "print(\"이름: {} 나이: {}\".format(name1, age1))\n",
    "print(\"이름: {} 나이: {}\".format(name2, age2))"
   ]
  },
  {
   "cell_type": "code",
   "execution_count": 127,
   "id": "ee7d5452",
   "metadata": {
    "ExecuteTime": {
     "end_time": "2024-03-02T11:31:12.571595Z",
     "start_time": "2024-03-02T11:31:12.566430Z"
    }
   },
   "outputs": [
    {
     "name": "stdout",
     "output_type": "stream",
     "text": [
      "이름: 김민수 나이: 10\n",
      "이름: 이철희 나이: 13\n"
     ]
    }
   ],
   "source": [
    "#파이썬 3.6부터 지원하는 f-string을 사용, 보다 직관적\n",
    "print(f\"이름: {name1} 나이: {age1}\")\n",
    "print(f\"이름: {name2} 나이: {age2}\")"
   ]
  },
  {
   "cell_type": "code",
   "execution_count": 140,
   "id": "a53bd0fa",
   "metadata": {
    "ExecuteTime": {
     "end_time": "2024-03-02T12:00:07.750258Z",
     "start_time": "2024-03-02T12:00:07.746764Z"
    }
   },
   "outputs": [
    {
     "name": "stdout",
     "output_type": "stream",
     "text": [
      "5969782550 <class 'int'>\n"
     ]
    }
   ],
   "source": [
    "#삼성전자의 상장주식수 \n",
    "#컴마를 제거, 정수 타입으로 변환\n",
    "\n",
    "상장주식수 = \"5,969,782,550\"\n",
    "상장주식수 = 상장주식수.replace(\",\",\"\") #쉼표 먼저 빼기\n",
    "상장주식수 = int(상장주식수) #int() 숫자 변경 함수로 변경하기\n",
    "\n",
    "\n",
    "print(상장주식수,type(상장주식수))"
   ]
  },
  {
   "cell_type": "code",
   "execution_count": 148,
   "id": "83d7c115",
   "metadata": {
    "ExecuteTime": {
     "end_time": "2024-03-02T12:06:16.675417Z",
     "start_time": "2024-03-02T12:06:16.672518Z"
    }
   },
   "outputs": [
    {
     "name": "stdout",
     "output_type": "stream",
     "text": [
      "2020/03\n"
     ]
    }
   ],
   "source": [
    "#039 문자열 슬라이싱\n",
    "#다음과 같은 문자열에서 '2020/03'만 출력하세요.\n",
    "\n",
    "분기 = \"2020/03(E) (IFRS연결)\"\n",
    "print(분기[0:7])\n"
   ]
  },
  {
   "cell_type": "code",
   "execution_count": 154,
   "id": "4054e11e",
   "metadata": {
    "ExecuteTime": {
     "end_time": "2024-03-02T12:09:59.275561Z",
     "start_time": "2024-03-02T12:09:59.270848Z"
    }
   },
   "outputs": [
    {
     "name": "stdout",
     "output_type": "stream",
     "text": [
      "삼성전자 4\n"
     ]
    }
   ],
   "source": [
    "#040 strip 메서드\n",
    "#문자열의 좌우의 공백이 있을 때 이를 제거해보세요.\n",
    "\n",
    "data = \"   삼성전자    \"\n",
    "data = data.strip()\n",
    "print(data,len(data))"
   ]
  },
  {
   "cell_type": "markdown",
   "id": "c860d8da",
   "metadata": {},
   "source": [
    "### 41~50"
   ]
  },
  {
   "cell_type": "code",
   "execution_count": 157,
   "id": "9a4daf17",
   "metadata": {
    "ExecuteTime": {
     "end_time": "2024-03-02T12:14:40.628560Z",
     "start_time": "2024-03-02T12:14:40.623559Z"
    },
    "scrolled": true
   },
   "outputs": [
    {
     "name": "stdout",
     "output_type": "stream",
     "text": [
      "BTC_KRW\n",
      "btc_krw\n"
     ]
    }
   ],
   "source": [
    "#041 upper 메서드\n",
    "#다음과 같은 문자열이 있을 때 이를 대문자 BTC_KRW로 변경하세요.\n",
    "\n",
    "ticker = \"btc_krw\"\n",
    "ticker = ticker.upper()\n",
    "print(ticker)\n",
    "\n",
    "ticker = ticker.lower()\n",
    "print(ticker)"
   ]
  },
  {
   "cell_type": "code",
   "execution_count": 166,
   "id": "14f07511",
   "metadata": {
    "ExecuteTime": {
     "end_time": "2024-03-02T12:22:28.153609Z",
     "start_time": "2024-03-02T12:22:28.148640Z"
    }
   },
   "outputs": [
    {
     "name": "stdout",
     "output_type": "stream",
     "text": [
      "Hello\n",
      "Hello\n"
     ]
    }
   ],
   "source": [
    "#043 capitalize 메서드\n",
    "#문자열 'hello'가 있을 때 이를 'Hello'로 변경해보세요.\n",
    "\n",
    "txt1 = \"hello\"\n",
    "txt1 = txt1.replace(\"h\",\"H\")\n",
    "print(txt1)\n",
    "\n",
    "txt1 = txt1.capitalize()\n",
    "print(txt1)"
   ]
  },
  {
   "cell_type": "code",
   "execution_count": 178,
   "id": "6ec0903b",
   "metadata": {
    "ExecuteTime": {
     "end_time": "2024-03-02T12:31:15.452968Z",
     "start_time": "2024-03-02T12:31:15.437474Z"
    },
    "scrolled": false
   },
   "outputs": [
    {
     "ename": "TypeError",
     "evalue": "slice indices must be integers or None or have an __index__ method",
     "output_type": "error",
     "traceback": [
      "\u001b[1;31m---------------------------------------------------------------------------\u001b[0m",
      "\u001b[1;31mTypeError\u001b[0m                                 Traceback (most recent call last)",
      "Cell \u001b[1;32mIn[178], line 6\u001b[0m\n\u001b[0;32m      1\u001b[0m \u001b[38;5;66;03m#044 endswith 메서드\u001b[39;00m\n\u001b[0;32m      2\u001b[0m \u001b[38;5;66;03m#확장자가 맞게 저장되어 있어?\u001b[39;00m\n\u001b[0;32m      4\u001b[0m file_name \u001b[38;5;241m=\u001b[39m \u001b[38;5;124m\"\u001b[39m\u001b[38;5;124m보고서.xlsx\u001b[39m\u001b[38;5;124m\"\u001b[39m\n\u001b[1;32m----> 6\u001b[0m \u001b[38;5;28mprint\u001b[39m(file_name\u001b[38;5;241m.\u001b[39mendswith(\u001b[38;5;124m\"\u001b[39m\u001b[38;5;124mxlsx\u001b[39m\u001b[38;5;124m\"\u001b[39m,\u001b[38;5;124m\"\u001b[39m\u001b[38;5;124mpdf\u001b[39m\u001b[38;5;124m\"\u001b[39m))\n",
      "\u001b[1;31mTypeError\u001b[0m: slice indices must be integers or None or have an __index__ method"
     ]
    }
   ],
   "source": [
    "#044 endswith 메서드\n",
    "#확장자가 맞게 저장되어 있어?\n",
    "\n",
    "file_name = \"보고서.xlsx\"\n",
    "file_name.endswith(\"xlsx\")\n"
   ]
  },
  {
   "cell_type": "code",
   "execution_count": 185,
   "id": "d007d982",
   "metadata": {
    "ExecuteTime": {
     "end_time": "2024-03-02T12:33:47.780791Z",
     "start_time": "2024-03-02T12:33:47.775624Z"
    }
   },
   "outputs": [
    {
     "data": {
      "text/plain": [
       "True"
      ]
     },
     "execution_count": 185,
     "metadata": {},
     "output_type": "execute_result"
    }
   ],
   "source": [
    "# 두개 이상 옵션값에서 맞는 지 확인하려면\n",
    "# (()) 두번 넣어야 해 튜플이라\n",
    "file_name.endswith((\"xlsx\", \"pdf\"))\n"
   ]
  },
  {
   "cell_type": "code",
   "execution_count": 187,
   "id": "6269630d",
   "metadata": {
    "ExecuteTime": {
     "end_time": "2024-03-02T12:34:41.206181Z",
     "start_time": "2024-03-02T12:34:41.201451Z"
    }
   },
   "outputs": [
    {
     "data": {
      "text/plain": [
       "True"
      ]
     },
     "execution_count": 187,
     "metadata": {},
     "output_type": "execute_result"
    }
   ],
   "source": [
    "#046 startswith 메서드\n",
    "#시작하는 문자열이 맞아?\n",
    "\n",
    "file_name = \"보고서.xlsx\"\n",
    "file_name.startswith(\"보고서\")"
   ]
  },
  {
   "cell_type": "code",
   "execution_count": 209,
   "id": "25781987",
   "metadata": {
    "ExecuteTime": {
     "end_time": "2024-03-02T12:38:17.555120Z",
     "start_time": "2024-03-02T12:38:17.551149Z"
    }
   },
   "outputs": [
    {
     "name": "stdout",
     "output_type": "stream",
     "text": [
      "[' w', 'rld']\n"
     ]
    }
   ],
   "source": [
    "#047 split 메서드\n",
    "#o을 기준으로 문자열을 나눠보세요.\n",
    "\n",
    "a = \"hello world\"\n",
    "a = a.split(\"o\")\n",
    "print(a[1:])\n"
   ]
  },
  {
   "cell_type": "code",
   "execution_count": 211,
   "id": "83cfeb13",
   "metadata": {
    "ExecuteTime": {
     "end_time": "2024-03-02T12:39:42.167186Z",
     "start_time": "2024-03-02T12:39:42.162903Z"
    }
   },
   "outputs": [
    {
     "name": "stdout",
     "output_type": "stream",
     "text": [
      "['btc', 'krw']\n"
     ]
    }
   ],
   "source": [
    "#048 split 메서드\n",
    "#btc와 krw로 나눠보세요.\n",
    "\n",
    "ticker = \"btc_krw\"\n",
    "ticker = ticker.split(\"_\")\n",
    "print(ticker)"
   ]
  },
  {
   "cell_type": "code",
   "execution_count": 215,
   "id": "06234501",
   "metadata": {
    "ExecuteTime": {
     "end_time": "2024-03-02T12:41:28.809181Z",
     "start_time": "2024-03-02T12:41:28.788888Z"
    }
   },
   "outputs": [
    {
     "name": "stdout",
     "output_type": "stream",
     "text": [
      "['2020', '05', '01']\n"
     ]
    },
    {
     "ename": "AttributeError",
     "evalue": "'list' object has no attribute 'split'",
     "output_type": "error",
     "traceback": [
      "\u001b[1;31m---------------------------------------------------------------------------\u001b[0m",
      "\u001b[1;31mAttributeError\u001b[0m                            Traceback (most recent call last)",
      "Cell \u001b[1;32mIn[215], line 9\u001b[0m\n\u001b[0;32m      6\u001b[0m \u001b[38;5;28mprint\u001b[39m(date)\n\u001b[0;32m      8\u001b[0m \u001b[38;5;66;03m#바로 이렇게도 되넹\u001b[39;00m\n\u001b[1;32m----> 9\u001b[0m \u001b[38;5;28mprint\u001b[39m(date\u001b[38;5;241m.\u001b[39msplit(\u001b[38;5;124m\"\u001b[39m\u001b[38;5;124m-\u001b[39m\u001b[38;5;124m\"\u001b[39m))\n",
      "\u001b[1;31mAttributeError\u001b[0m: 'list' object has no attribute 'split'"
     ]
    }
   ],
   "source": [
    "#049 split 메서드\n",
    "#연도, 월, 일로 나눠보세요.\n",
    "\n",
    "date = \"2020-05-01\"\n",
    "# date = date.split(\"-\")\n",
    "# print(date)\n",
    "\n",
    "#바로 이렇게도 되넹\n",
    "print(date.split(\"-\"))"
   ]
  },
  {
   "cell_type": "code",
   "execution_count": 223,
   "id": "3f2b9172",
   "metadata": {
    "ExecuteTime": {
     "end_time": "2024-03-02T12:44:38.429965Z",
     "start_time": "2024-03-02T12:44:38.425651Z"
    }
   },
   "outputs": [
    {
     "name": "stdout",
     "output_type": "stream",
     "text": [
      "039490\n",
      "039490     \n",
      "     039490\n"
     ]
    }
   ],
   "source": [
    "#050 rstrip 메서드\n",
    "#공백제거 위치에 따라 다제거,왼제거,오제거\n",
    "\n",
    "data = \"     039490     \"\n",
    "print(data.strip())\n",
    "print(data.lstrip())\n",
    "print(data.rstrip())"
   ]
  },
  {
   "cell_type": "code",
   "execution_count": null,
   "id": "a01b95bc",
   "metadata": {},
   "outputs": [],
   "source": []
  },
  {
   "cell_type": "code",
   "execution_count": null,
   "id": "8e2995d9",
   "metadata": {},
   "outputs": [],
   "source": []
  },
  {
   "cell_type": "code",
   "execution_count": null,
   "id": "50c11761",
   "metadata": {},
   "outputs": [],
   "source": []
  },
  {
   "cell_type": "code",
   "execution_count": null,
   "id": "13715519",
   "metadata": {},
   "outputs": [],
   "source": []
  },
  {
   "cell_type": "code",
   "execution_count": null,
   "id": "a701dec4",
   "metadata": {},
   "outputs": [],
   "source": []
  },
  {
   "cell_type": "code",
   "execution_count": null,
   "id": "085e4806",
   "metadata": {},
   "outputs": [],
   "source": []
  },
  {
   "cell_type": "code",
   "execution_count": null,
   "id": "cf06313b",
   "metadata": {},
   "outputs": [],
   "source": []
  },
  {
   "cell_type": "code",
   "execution_count": null,
   "id": "a3730521",
   "metadata": {},
   "outputs": [],
   "source": []
  },
  {
   "cell_type": "code",
   "execution_count": null,
   "id": "bafd59b6",
   "metadata": {},
   "outputs": [],
   "source": []
  },
  {
   "cell_type": "code",
   "execution_count": null,
   "id": "32fcb0d0",
   "metadata": {},
   "outputs": [],
   "source": []
  },
  {
   "cell_type": "code",
   "execution_count": null,
   "id": "7a61423e",
   "metadata": {},
   "outputs": [],
   "source": []
  },
  {
   "cell_type": "code",
   "execution_count": null,
   "id": "4c5dec1c",
   "metadata": {},
   "outputs": [],
   "source": []
  }
 ],
 "metadata": {
  "kernelspec": {
   "display_name": "Python 3 (ipykernel)",
   "language": "python",
   "name": "python3"
  },
  "language_info": {
   "codemirror_mode": {
    "name": "ipython",
    "version": 3
   },
   "file_extension": ".py",
   "mimetype": "text/x-python",
   "name": "python",
   "nbconvert_exporter": "python",
   "pygments_lexer": "ipython3",
   "version": "3.11.5"
  }
 },
 "nbformat": 4,
 "nbformat_minor": 5
}
